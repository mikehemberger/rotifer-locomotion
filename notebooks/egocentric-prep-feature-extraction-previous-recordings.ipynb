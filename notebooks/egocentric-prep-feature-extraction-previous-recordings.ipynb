{
 "cells": [
  {
   "cell_type": "code",
   "execution_count": 1,
   "metadata": {},
   "outputs": [],
   "source": [
    "import sys\n",
    "import os\n",
    "sys.path.append(os.path.abspath('..'))\n",
    "\n",
    "import pandas as pd\n",
    "import numpy as np\n",
    "import cv2\n",
    "import matplotlib.pyplot as plt\n",
    "from utils.utils import get_video_properties, get_contours_from_segmasks, get_contour_stats, extract_frames_from_video\n",
    "from utils.egocentric_utils import process_images_with_extents, process_images_with_masks"
   ]
  },
  {
   "cell_type": "code",
   "execution_count": 2,
   "metadata": {},
   "outputs": [],
   "source": [
    "# compile list to redo\n",
    "# # moss\n",
    "# 2024_0311_153344_021_trimmed_10sec_ts28-te38_cropped_1050-1800-800-2000_seg DONE\n",
    "# 2024_0312_200610_055_trimmed_10sec_ts121-te131_cropped_200-850-0-600_seg.mp4\n",
    "# 2024_0312_200031_053_trimmed_15sec_ts74-te89_cropped_250-1250-0-1100_seg.mp4 DONE\n",
    "# 2024_0311_152452_018_trimmed_15sec_ts0-te15_cropped_700-2100-400-1800_seg.mp4 DONE\n",
    "\n",
    "# # birdbath\n",
    "# 2024_0229_115124_054_subclip_8sec_ts324-te332.mp4 only in 480x480 thus far\n",
    "\n",
    "# previous fig \n",
    "#vid_filename = \"2024_0201_152845_091_10sec\" DONE\n",
    "# \"2024_0216_161747_055_20sec_cropped\" # DONE\n",
    "# \"2024_0216_094236_090_11sec_cropped\" only 124 frames exported! relook processing function, probably if extent is larger than / touches borders > simply skipped, refine\n",
    "# corona/2024_0201_152845_091_subclip_7sec_ts98-te105_cropped_masks > cropping problem again 77/168 expoerted\n",
    "\n",
    "# vid_filenames =[\"2024_0201_152845_091_10sec\", \"2024_0216_094236_090_11sec_cropped\", \"2024_0216_161747_055_20sec_cropped\", \"2024_0201_152845_091_subclip_7sec_ts98-te105_cropped\",\n",
    "#                 \"2024_0311_152452_018_trimmed_15sec_ts0-te15_cropped_700-2100-400-1800\", \"2024_0312_200031_053_trimmed_15sec_ts74-te89_cropped_250-1250-0-1100\",\n",
    "#                 \"2024_0311_153344_021_trimmed_10sec_ts18-te28_cropped_1200-1800-850-2000\"]\n",
    "\n",
    "# img_save_dir = f\"../data/images/{vid_filename}/\""
   ]
  },
  {
   "cell_type": "markdown",
   "metadata": {},
   "source": [
    "# Image export from videos"
   ]
  },
  {
   "cell_type": "code",
   "execution_count": 3,
   "metadata": {},
   "outputs": [
    {
     "name": "stdout",
     "output_type": "stream",
     "text": [
      "['2024_0201_152845_091_10sec.mov', '2024_0201_152845_091_subclip_7sec_ts98-te105_cropped.mp4', '2024_0216_094236_090_11sec_cropped.mp4', '2024_0216_161747_055_20sec_cropped.mp4', '2024_0311_152452_018_trimmed_15sec_ts0-te15_cropped_700-2100-400-1800.mp4', '2024_0311_153344_021_trimmed_10sec_ts28-te38_cropped_1050-1800-800-2000.mp4', '2024_0312_194950_050_trimmed.mp4', '2024_0312_200031_053_trimmed_15sec_ts74-te89_cropped_250-1250-0-1100.mp4', '2024_0322_170346_054_trimmed.mp4', '2024_0324_204541_027_trimmed.mp4', '2024_0328_094441_053_trimmed.mp4', '2024_0330_120233_097_trimmed.mp4', '2024_0330_120947_101_trimmed.mp4', '2024_0330_121516_105_trimmed.mp4', '2024_0331_091926_007_trimmed.mp4', '2024_0408_074310_021.MP4', '2024_0415_084257_008_trimmed.mp4', '2024_0512_085355_018_trimmed.mp4', '2024_0512_091209_023_trimmed.mp4']\n",
      "(24, 315, 1668, 1084)\n",
      "(24, 168, 1530, 550)\n",
      "(30, 330, 1920, 800)\n",
      "(24, 480, 1850, 850)\n",
      "(24, 360, 1400, 1400)\n",
      "(24, 240, 750, 1200)\n",
      "(24, 994, 2880, 2160)\n",
      "(24, 360, 1000, 1100)\n",
      "(60, 1833, 1920, 1080)\n",
      "(24, 944, 2880, 2160)\n",
      "(60, 1722, 1920, 1080)\n",
      "(60, 973, 1920, 1080)\n",
      "(60, 576, 1920, 1080)\n",
      "(60, 1746, 1920, 1080)\n",
      "(60, 685, 1920, 1080)\n",
      "(60, 774, 1920, 1080)\n",
      "(60, 2119, 1920, 1080)\n",
      "(60, 1824, 1920, 1080)\n",
      "(60, 3307, 1920, 1080)\n"
     ]
    }
   ],
   "source": [
    "vid_path = \"../data/videos/feature-extraction/\"  # feature extraction path\n",
    "file_patterns = [\"mp4\", \"MP4\", \"mov\"]\n",
    "vid_filenames = sorted([f for f in os.listdir(vid_path) if f.split(\".\")[-1] in file_patterns])#not f.startswith(\".\") and not os.path.isdir(f)])\n",
    "print(vid_filenames)\n",
    "\n",
    "fps_ = []; num_frames_ = []\n",
    "CALC_STATS = False; DOWNSAMPLE = False\n",
    "\n",
    "for vid_filename in vid_filenames:\n",
    "    vid_props = get_video_properties(vid_path, vid_filename)\n",
    "    fps, num_frames, img_width, img_height = get_video_properties(vid_path, vid_filename)\n",
    "    fps_.append(fps)\n",
    "    print(vid_props) # [\"fps\", \"num_frames\", \"width\", \"height\"]\n",
    "\n",
    "    # IMAGES\n",
    "    img_save_dir = f\"../data/images/{vid_filename.split('.')[0]}/\"\n",
    "    img_filenames = sorted([f for f in os.listdir(img_save_dir) if f.endswith(\"jpg\")])\n",
    "    img_filepaths = [os.path.join(img_save_dir, fn) for fn in img_filenames]\n",
    "    \n",
    "    # export frames\n",
    "    EXPORT_FRAMES = False\n",
    "    extract_frames_from_video(vid_path, vid_filename, img_save_dir) if EXPORT_FRAMES else None\n",
    "        \n",
    "    # MASKS\n",
    "    seg_mask_path = f\"../data/seg_masks/{vid_filename.split('.')[0]}_masks\"\n",
    "    mask_filenames = sorted([f for f in os.listdir(seg_mask_path) if f.endswith(\"png\")])\n",
    "    mask_filepaths = [os.path.join(seg_mask_path, fn) for fn in mask_filenames]\n",
    "\n",
    "    # Calculate stats if necessary\n",
    "    if CALC_STATS:\n",
    "        contour_list = get_contours_from_segmasks(mask_filepaths)\n",
    "        df_stats = get_contour_stats(contour_list, min_area=2200)\n",
    "        df_stats[\"mask_fp\"] = mask_filepaths\n",
    "        df_stats[\"img_fp\"] = img_filepaths\n",
    "        \n",
    "        # Clean\n",
    "        df = df_stats.dropna(subset=\"centroid_x\")\n",
    "        df.to_csv(f\"../data/results/stats/feature_extraction/{vid_filename.split('.')[0]}.csv\", index=False)\n",
    "        \n",
    "        if DOWNSAMPLE & (fps == 60):\n",
    "            df = df[::2].reset_index(drop=True)\n",
    "            df.to_csv(f\"../data/results/stats/feature_extraction/{vid_filename.split('.')[0]}.csv\", index=False)"
   ]
  },
  {
   "cell_type": "code",
   "execution_count": 4,
   "metadata": {},
   "outputs": [
    {
     "data": {
      "text/html": [
       "<div>\n",
       "<style scoped>\n",
       "    .dataframe tbody tr th:only-of-type {\n",
       "        vertical-align: middle;\n",
       "    }\n",
       "\n",
       "    .dataframe tbody tr th {\n",
       "        vertical-align: top;\n",
       "    }\n",
       "\n",
       "    .dataframe thead th {\n",
       "        text-align: right;\n",
       "    }\n",
       "</style>\n",
       "<table border=\"1\" class=\"dataframe\">\n",
       "  <thead>\n",
       "    <tr style=\"text-align: right;\">\n",
       "      <th></th>\n",
       "      <th>files</th>\n",
       "      <th>num_frames</th>\n",
       "      <th>fps</th>\n",
       "    </tr>\n",
       "  </thead>\n",
       "  <tbody>\n",
       "    <tr>\n",
       "      <th>0</th>\n",
       "      <td>2024_0201_152845_091_10sec.csv</td>\n",
       "      <td>314</td>\n",
       "      <td>24</td>\n",
       "    </tr>\n",
       "    <tr>\n",
       "      <th>1</th>\n",
       "      <td>2024_0201_152845_091_subclip_7sec_ts98-te105_c...</td>\n",
       "      <td>165</td>\n",
       "      <td>24</td>\n",
       "    </tr>\n",
       "    <tr>\n",
       "      <th>2</th>\n",
       "      <td>2024_0216_094236_090_11sec_cropped.csv</td>\n",
       "      <td>330</td>\n",
       "      <td>30</td>\n",
       "    </tr>\n",
       "    <tr>\n",
       "      <th>3</th>\n",
       "      <td>2024_0216_161747_055_20sec_cropped.csv</td>\n",
       "      <td>480</td>\n",
       "      <td>24</td>\n",
       "    </tr>\n",
       "    <tr>\n",
       "      <th>4</th>\n",
       "      <td>2024_0311_152452_018_trimmed_15sec_ts0-te15_cr...</td>\n",
       "      <td>359</td>\n",
       "      <td>24</td>\n",
       "    </tr>\n",
       "    <tr>\n",
       "      <th>5</th>\n",
       "      <td>2024_0311_153344_021_trimmed_10sec_ts28-te38_c...</td>\n",
       "      <td>235</td>\n",
       "      <td>24</td>\n",
       "    </tr>\n",
       "    <tr>\n",
       "      <th>6</th>\n",
       "      <td>2024_0312_194950_050_trimmed.csv</td>\n",
       "      <td>988</td>\n",
       "      <td>24</td>\n",
       "    </tr>\n",
       "    <tr>\n",
       "      <th>7</th>\n",
       "      <td>2024_0312_200031_053_trimmed_15sec_ts74-te89_c...</td>\n",
       "      <td>360</td>\n",
       "      <td>24</td>\n",
       "    </tr>\n",
       "    <tr>\n",
       "      <th>8</th>\n",
       "      <td>2024_0322_170346_054_trimmed.csv</td>\n",
       "      <td>907</td>\n",
       "      <td>60</td>\n",
       "    </tr>\n",
       "    <tr>\n",
       "      <th>9</th>\n",
       "      <td>2024_0324_204541_027_trimmed.csv</td>\n",
       "      <td>933</td>\n",
       "      <td>24</td>\n",
       "    </tr>\n",
       "    <tr>\n",
       "      <th>10</th>\n",
       "      <td>2024_0328_094441_053_trimmed.csv</td>\n",
       "      <td>854</td>\n",
       "      <td>60</td>\n",
       "    </tr>\n",
       "    <tr>\n",
       "      <th>11</th>\n",
       "      <td>2024_0330_120233_097_trimmed.csv</td>\n",
       "      <td>487</td>\n",
       "      <td>60</td>\n",
       "    </tr>\n",
       "    <tr>\n",
       "      <th>12</th>\n",
       "      <td>2024_0330_120947_101_trimmed.csv</td>\n",
       "      <td>286</td>\n",
       "      <td>60</td>\n",
       "    </tr>\n",
       "    <tr>\n",
       "      <th>13</th>\n",
       "      <td>2024_0330_121516_105_trimmed.csv</td>\n",
       "      <td>869</td>\n",
       "      <td>60</td>\n",
       "    </tr>\n",
       "    <tr>\n",
       "      <th>14</th>\n",
       "      <td>2024_0331_091926_007_trimmed.csv</td>\n",
       "      <td>343</td>\n",
       "      <td>60</td>\n",
       "    </tr>\n",
       "    <tr>\n",
       "      <th>15</th>\n",
       "      <td>2024_0408_074310_021.csv</td>\n",
       "      <td>383</td>\n",
       "      <td>60</td>\n",
       "    </tr>\n",
       "    <tr>\n",
       "      <th>16</th>\n",
       "      <td>2024_0415_084257_008_trimmed.csv</td>\n",
       "      <td>1052</td>\n",
       "      <td>60</td>\n",
       "    </tr>\n",
       "    <tr>\n",
       "      <th>17</th>\n",
       "      <td>2024_0512_085355_018_trimmed.csv</td>\n",
       "      <td>877</td>\n",
       "      <td>60</td>\n",
       "    </tr>\n",
       "    <tr>\n",
       "      <th>18</th>\n",
       "      <td>2024_0512_091209_023_trimmed.csv</td>\n",
       "      <td>1648</td>\n",
       "      <td>60</td>\n",
       "    </tr>\n",
       "  </tbody>\n",
       "</table>\n",
       "</div>"
      ],
      "text/plain": [
       "                                                files  num_frames  fps\n",
       "0                      2024_0201_152845_091_10sec.csv         314   24\n",
       "1   2024_0201_152845_091_subclip_7sec_ts98-te105_c...         165   24\n",
       "2              2024_0216_094236_090_11sec_cropped.csv         330   30\n",
       "3              2024_0216_161747_055_20sec_cropped.csv         480   24\n",
       "4   2024_0311_152452_018_trimmed_15sec_ts0-te15_cr...         359   24\n",
       "5   2024_0311_153344_021_trimmed_10sec_ts28-te38_c...         235   24\n",
       "6                    2024_0312_194950_050_trimmed.csv         988   24\n",
       "7   2024_0312_200031_053_trimmed_15sec_ts74-te89_c...         360   24\n",
       "8                    2024_0322_170346_054_trimmed.csv         907   60\n",
       "9                    2024_0324_204541_027_trimmed.csv         933   24\n",
       "10                   2024_0328_094441_053_trimmed.csv         854   60\n",
       "11                   2024_0330_120233_097_trimmed.csv         487   60\n",
       "12                   2024_0330_120947_101_trimmed.csv         286   60\n",
       "13                   2024_0330_121516_105_trimmed.csv         869   60\n",
       "14                   2024_0331_091926_007_trimmed.csv         343   60\n",
       "15                           2024_0408_074310_021.csv         383   60\n",
       "16                   2024_0415_084257_008_trimmed.csv        1052   60\n",
       "17                   2024_0512_085355_018_trimmed.csv         877   60\n",
       "18                   2024_0512_091209_023_trimmed.csv        1648   60"
      ]
     },
     "execution_count": 4,
     "metadata": {},
     "output_type": "execute_result"
    }
   ],
   "source": [
    "stats_path = \"../data/results/stats/feature_extraction/\"\n",
    "csv_filenames = sorted([f for f in os.listdir(stats_path) if f.endswith(\".csv\")])\n",
    "num_frames_ = []\n",
    "for nth, fn in enumerate(csv_filenames):\n",
    "    num_frames_.append(len(pd.read_csv(os.path.join(stats_path, fn))))\n",
    "\n",
    "df_csvs = pd.DataFrame({\"files\" : csv_filenames, \"num_frames\" : num_frames_})\n",
    "df_csvs = df_csvs.drop(14).reset_index(drop=True)\n",
    "df_csvs[\"fps\"] = fps_\n",
    "df_csvs"
   ]
  },
  {
   "cell_type": "code",
   "execution_count": 7,
   "metadata": {},
   "outputs": [
    {
     "name": "stdout",
     "output_type": "stream",
     "text": [
      "[6.88, 87.93, 25.78, 8.59]\n"
     ]
    }
   ],
   "source": [
    "# calculate total duration, range, mean\n",
    "downsample_idx = list(df_csvs[df_csvs[\"fps\"] == 60].index.values)\n",
    "downsample_idx\n",
    "durations = list()\n",
    "for nth, row in df_csvs.iterrows():\n",
    "    if int(nth) in downsample_idx:\n",
    "        durations.append(row[\"num_frames\"] * 2 / row[\"fps\"])  # df_csvs.loc[0, \"num_frames\"] / (df_csvs.loc[0, \"fps\"])\n",
    "    else:\n",
    "        durations.append(row[\"num_frames\"] / row[\"fps\"])\n",
    "\n",
    "durations.append(2638 * 2 / 60)\n",
    "print([round(n,2) for n in [np.min(durations), np.max(durations), np.mean(durations), np.sum(durations) / 60]])"
   ]
  },
  {
   "cell_type": "code",
   "execution_count": 10,
   "metadata": {},
   "outputs": [
    {
     "data": {
      "image/png": "[encoded data removed]",
      "text/plain": [
       "<Figure size 640x480 with 1 Axes>"
      ]
     },
     "metadata": {},
     "output_type": "display_data"
    }
   ],
   "source": [
    "plt.hist(durations, bins=30);"
   ]
  },
  {
   "cell_type": "code",
   "execution_count": 4,
   "metadata": {},
   "outputs": [
    {
     "data": {
      "text/plain": [
       "14508"
      ]
     },
     "execution_count": 4,
     "metadata": {},
     "output_type": "execute_result"
    }
   ],
   "source": [
    "# Matches the dataset length once individually treated exp is added! \n",
    "df_csvs[\"num_frames\"].sum() + 2638"
   ]
  },
  {
   "cell_type": "code",
   "execution_count": 15,
   "metadata": {},
   "outputs": [
    {
     "name": "stdout",
     "output_type": "stream",
     "text": [
      "10651.0\n"
     ]
    }
   ],
   "source": [
    "# cnum_frames = df_csvs.num_frames.tolist()\n",
    "# dnum_frames = []\n",
    "# for nth, nf in enumerate(cnum_frames):\n",
    "#     if int(nth) in downsample_idx:\n",
    "#         dnum_frames.append(nf/2)\n",
    "#     else:\n",
    "#         dnum_frames.append(nf)\n",
    "# print(sum(dnum_frames)+2634)\n",
    "\n",
    "        \n",
    "# downsampled ABOVE on dataframe basis\n",
    "# if int(nth) in downsample_idx:  # downsample 60 to 30fps\n",
    "#     extents, input_image_paths, mask_filepaths = extents[::2], input_image_paths[::2], mask_filepaths[::2]\n",
    "#     centers_of_mass = centers_of_mass[::2]"
   ]
  },
  {
   "cell_type": "markdown",
   "metadata": {},
   "source": [
    "# 1. Masking Images and Export Bbox"
   ]
  },
  {
   "cell_type": "code",
   "execution_count": null,
   "metadata": {},
   "outputs": [],
   "source": [
    "target_size = (224, 224)\n",
    "files = df_csvs[\"files\"].to_list()\n",
    "\n",
    "PROCESS_IMAGES = False\n",
    "if PROCESS_IMAGES:\n",
    "    for nth, file in enumerate(files):\n",
    "        \n",
    "        # Load df and variables\n",
    "        df = pd.read_csv(os.path.join(stats_path, file))\n",
    "        extents, input_image_paths, mask_filepaths = df[[\"extent\", \"img_fp\", \"mask_fp\"]].T.values.tolist()\n",
    "        centers_of_mass = list(df[[\"centroid_y\", \"centroid_x\"]].itertuples(index=False, name=None))        \n",
    "        max_extent = int(np.percentile(extents, 98))\n",
    "\n",
    "        # Export with rgb with bg masked as gray\n",
    "        # output_image_paths = [fp.replace(\"images/\", f\"images/resized_cropped_squarebbox_rgb_gbg_{target_size[0]}/\") for fp in input_image_paths]\n",
    "        # process_images_with_masks(input_image_paths, mask_filepaths, centers_of_mass, max_extent, target_size, output_image_paths);\n",
    "        \n",
    "        # Export rgb with bg\n",
    "        output_image_paths = [fp.replace(\"images/\", f\"images/resized_cropped_squarebbox_rgb_bg_{target_size[0]}/\") for fp in input_image_paths]\n",
    "        process_images_with_extents(input_image_paths, centers_of_mass, max_extent, target_size, output_image_paths);\n",
    "            "
   ]
  }
 ],
 "metadata": {
  "kernelspec": {
   "display_name": "base",
   "language": "python",
   "name": "python3"
  },
  "language_info": {
   "codemirror_mode": {
    "name": "ipython",
    "version": 3
   },
   "file_extension": ".py",
   "mimetype": "text/x-python",
   "name": "python",
   "nbconvert_exporter": "python",
   "pygments_lexer": "ipython3",
   "version": "3.9.16"
  }
 },
 "nbformat": 4,
 "nbformat_minor": 2
}
