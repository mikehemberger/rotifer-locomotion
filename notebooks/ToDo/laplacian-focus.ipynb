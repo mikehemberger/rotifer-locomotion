{
 "cells": [
  {
   "cell_type": "code",
   "execution_count": 7,
   "metadata": {},
   "outputs": [],
   "source": [
    "import os\n",
    "import cv2\n",
    "import numpy as np\n",
    "import matplotlib.pyplot as plt\n",
    "\n",
    "def variance_of_laplacian(image):\n",
    "    # Convert the image to grayscale\n",
    "    gray = cv2.cvtColor(image, cv2.COLOR_BGR2GRAY)\n",
    "    \n",
    "    # Apply the Laplacian operator\n",
    "    laplacian = cv2.Laplacian(gray, cv2.CV_64F)\n",
    "    \n",
    "    # Calculate the variance\n",
    "    variance = laplacian.var()\n",
    "    \n",
    "    return variance\n",
    "\n",
    "def load_images(filepaths):\n",
    "    images = []\n",
    "    for path in filepaths:\n",
    "        image = cv2.imread(path)\n",
    "        if image is not None:\n",
    "            images.append(image)\n",
    "    return images\n",
    "\n",
    "def plot_images(images, title):\n",
    "    plt.figure(figsize=(30, 20))\n",
    "    for i, img in enumerate(images):\n",
    "        plt.subplot(2, 5, i + 1)\n",
    "        plt.imshow(cv2.cvtColor(img, cv2.COLOR_BGR2RGB))\n",
    "        plt.axis('off')\n",
    "    plt.suptitle(title)\n",
    "    \n",
    "\n",
    "def main(image_filepaths, threshold, num_images=10):\n",
    "    # Load images\n",
    "    images = load_images(image_filepaths)\n",
    "    \n",
    "    # Calculate Laplacian variance for each image\n",
    "    laplacian_variances = [variance_of_laplacian(img) for img in images]\n",
    "    \n",
    "    # Split images into above and below threshold\n",
    "    above_threshold = [(img, var) for img, var in zip(images, laplacian_variances) if var > threshold]\n",
    "    below_threshold = [(img, var) for img, var in zip(images, laplacian_variances) if var <= threshold]\n",
    "    \n",
    "    # Sort by variance\n",
    "    above_threshold.sort(key=lambda x: x[1], reverse=True)\n",
    "    below_threshold.sort(key=lambda x: x[1])\n",
    "    \n",
    "    # Select top 20 images from each\n",
    "    top_above_threshold = [img for img, var in above_threshold[:num_images]]\n",
    "    top_below_threshold = [img for img, var in below_threshold[:num_images]]\n",
    "    \n",
    "    # Plot images above threshold\n",
    "    plot_images(top_above_threshold, \"Top 20 In-Focus Images (Above Threshold)\")\n",
    "\n",
    "    # Plot images below threshold\n",
    "    plot_images(top_below_threshold, \"Top 20 Out-of-Focus Images (Below Threshold)\")\n",
    "    \n",
    "    # Plot histogram of Laplacian variances\n",
    "    plt.figure(figsize=(10, 6))\n",
    "    plt.hist(laplacian_variances, bins=50, edgecolor='black')\n",
    "    plt.axvline(x=threshold, color='red', linestyle='--', linewidth=2, label='Threshold')\n",
    "    plt.xlabel('Laplacian Variance')\n",
    "    plt.ylabel('Frequency')\n",
    "    plt.title('Histogram of Laplacian Variances')\n",
    "    plt.legend()\n",
    "    \n",
    "    return laplacian_variances\n"
   ]
  },
  {
   "cell_type": "code",
   "execution_count": 8,
   "metadata": {},
   "outputs": [],
   "source": [
    "img_path = \"./data/images/2024_0330_122058_107_trimmed_ts6-te120/\"\n",
    "img_filepaths = sorted([os.path.join(img_path, fp) for fp in os.listdir(img_path) if fp.endswith(\".jpg\")])"
   ]
  },
  {
   "cell_type": "markdown",
   "metadata": {},
   "source": [
    "# HAVE TO DO THIS AFTER SEGMENTATION MASKING OTHERWISE OTHER OBJECTS MAY OBSCURE RESULTS"
   ]
  },
  {
   "cell_type": "code",
   "execution_count": null,
   "metadata": {},
   "outputs": [],
   "source": [
    "threshold = 50.0\n",
    "lvar = main(img_filepaths, threshold)"
   ]
  },
  {
   "cell_type": "code",
   "execution_count": null,
   "metadata": {},
   "outputs": [],
   "source": [
    "lvar"
   ]
  }
 ],
 "metadata": {
  "kernelspec": {
   "display_name": "base",
   "language": "python",
   "name": "python3"
  },
  "language_info": {
   "codemirror_mode": {
    "name": "ipython",
    "version": 3
   },
   "file_extension": ".py",
   "mimetype": "text/x-python",
   "name": "python",
   "nbconvert_exporter": "python",
   "pygments_lexer": "ipython3",
   "version": "3.9.16"
  }
 },
 "nbformat": 4,
 "nbformat_minor": 2
}
