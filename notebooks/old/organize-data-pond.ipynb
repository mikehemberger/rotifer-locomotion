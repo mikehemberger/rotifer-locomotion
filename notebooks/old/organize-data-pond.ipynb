{
 "cells": [
  {
   "cell_type": "code",
   "execution_count": 1,
   "metadata": {},
   "outputs": [],
   "source": [
    "import os\n",
    "import pandas as pd\n",
    "import moviepy"
   ]
  },
  {
   "cell_type": "code",
   "execution_count": 2,
   "metadata": {},
   "outputs": [
    {
     "name": "stdout",
     "output_type": "stream",
     "text": [
      "['2020_0107_010256_004.MP4', '2020_0109_035310_014.MP4', '2020_0109_060802_030.MP4', '2024_0104_121454_057.MP4', '2024_0109_113533_051.MP4', '2024_0116_120310_060.MP4', '2024_0116_121239_064.MP4', '2024_0116_150020_071.MP4', '2024_0116_171238_072.MP4', '2024_0116_181251_078.MP4'] \n",
      " ['./data/videos/pond-water-rotifers/2020_0107_010256_004.MP4', './data/videos/pond-water-rotifers/2020_0109_035310_014.MP4', './data/videos/pond-water-rotifers/2020_0109_060802_030.MP4', './data/videos/pond-water-rotifers/2024_0104_121454_057.MP4', './data/videos/pond-water-rotifers/2024_0109_113533_051.MP4', './data/videos/pond-water-rotifers/2024_0116_120310_060.MP4', './data/videos/pond-water-rotifers/2024_0116_121239_064.MP4', './data/videos/pond-water-rotifers/2024_0116_150020_071.MP4', './data/videos/pond-water-rotifers/2024_0116_171238_072.MP4', './data/videos/pond-water-rotifers/2024_0116_181251_078.MP4']\n"
     ]
    }
   ],
   "source": [
    "video_root_dir = \"./data/videos/pond-water-rotifers/\"  #individual-rotifer/\"\n",
    "image_root_dir = \"./data/images/\"\n",
    "\n",
    "video_files = sorted([f for f in os.listdir(video_root_dir) if f.endswith(\".MP4\")])\n",
    "video_filepaths = [os.path.join(video_root_dir, f) for f in video_files]\n",
    "\n",
    "print(video_files[:10], \"\\n\", video_filepaths[:10])\n"
   ]
  },
  {
   "cell_type": "code",
   "execution_count": 3,
   "metadata": {},
   "outputs": [],
   "source": [
    "from moviepy.editor import VideoFileClip\n",
    "\n",
    "\n",
    "def get_video_info(file_path):\n",
    "    clip = VideoFileClip(file_path)\n",
    "    duration = clip.duration\n",
    "    resolution = clip.size\n",
    "    fps = clip.fps\n",
    "    clip.close()  # Close the clip to release resources\n",
    "    \n",
    "    creation_time = os.path.getctime(file_path)\n",
    "\n",
    "    return duration, resolution, fps, creation_time\n"
   ]
  },
  {
   "cell_type": "code",
   "execution_count": 4,
   "metadata": {},
   "outputs": [],
   "source": [
    "video_duration = list()\n",
    "video_resolution = list()\n",
    "video_creation = list()\n",
    "video_fps = list()\n",
    "\n",
    "for fp in video_filepaths:\n",
    "    vid_duration, vid_resolution, vid_fps, vid_creation = get_video_info(fp)\n",
    "    video_duration.append(vid_duration)\n",
    "    video_resolution.append(vid_resolution)\n",
    "    video_creation.append(vid_creation)\n",
    "    video_fps.append(vid_fps)"
   ]
  },
  {
   "cell_type": "code",
   "execution_count": 5,
   "metadata": {},
   "outputs": [
    {
     "data": {
      "text/plain": [
       "[49.93,\n",
       " 128.23,\n",
       " 64.17,\n",
       " 100.8,\n",
       " 134.13,\n",
       " 77.12,\n",
       " 217.8,\n",
       " 205.52,\n",
       " 87.65,\n",
       " 69.08,\n",
       " 125.37,\n",
       " 108.93,\n",
       " 25.87,\n",
       " 55.08,\n",
       " 81.63,\n",
       " 28.67,\n",
       " 131.96,\n",
       " 280.88,\n",
       " 5.04,\n",
       " 45.04,\n",
       " 67.96,\n",
       " 120.63,\n",
       " 29.88,\n",
       " 63.15,\n",
       " 5.19,\n",
       " 194.63,\n",
       " 95.38,\n",
       " 140.04]"
      ]
     },
     "execution_count": 5,
     "metadata": {},
     "output_type": "execute_result"
    }
   ],
   "source": [
    "video_duration"
   ]
  },
  {
   "cell_type": "code",
   "execution_count": 8,
   "metadata": {},
   "outputs": [
    {
     "data": {
      "text/plain": [
       "file_path     ./data/videos/pond-water-rotifers/2024_0109_11...\n",
       "file_name                              2024_0109_113533_051.MP4\n",
       "creation                                      1706962373.707365\n",
       "duration                                                 134.13\n",
       "resolution                                         [2880, 2160]\n",
       "fps                                                        24.0\n",
       "desc                                                       None\n",
       "Name: 4, dtype: object"
      ]
     },
     "execution_count": 8,
     "metadata": {},
     "output_type": "execute_result"
    }
   ],
   "source": [
    "df = pd.DataFrame(video_filepaths, columns=[\"file_path\"])\n",
    "df[\"file_name\"] = video_files\n",
    "df[\"creation\"] = video_creation\n",
    "df[\"duration\"] = video_duration\n",
    "df[\"resolution\"] = video_resolution\n",
    "df[\"fps\"] = video_fps\n",
    "df[\"desc\"] = None\n",
    "df#.tail(20)\n",
    "idx = [0,3,4,10,13,] # 4\n",
    "df.loc[4,:]"
   ]
  },
  {
   "cell_type": "code",
   "execution_count": 7,
   "metadata": {},
   "outputs": [],
   "source": [
    "df.to_csv(\"./data/csvs/metadata_pond-rotifers.csv\", index=False)"
   ]
  },
  {
   "cell_type": "code",
   "execution_count": null,
   "metadata": {},
   "outputs": [],
   "source": []
  }
 ],
 "metadata": {
  "kernelspec": {
   "display_name": "Python 3",
   "language": "python",
   "name": "python3"
  },
  "language_info": {
   "codemirror_mode": {
    "name": "ipython",
    "version": 3
   },
   "file_extension": ".py",
   "mimetype": "text/x-python",
   "name": "python",
   "nbconvert_exporter": "python",
   "pygments_lexer": "ipython3",
   "version": "3.10.1"
  }
 },
 "nbformat": 4,
 "nbformat_minor": 2
}
