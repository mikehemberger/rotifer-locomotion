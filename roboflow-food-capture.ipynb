{
 "cells": [
  {
   "cell_type": "code",
   "execution_count": 1,
   "metadata": {},
   "outputs": [],
   "source": [
    "import sys\n",
    "import os\n",
    "sys.path.append(os.path.abspath('..'))\n",
    "\n",
    "import pandas as pd\n",
    "import numpy as np\n",
    "import cv2\n",
    "import matplotlib.pyplot as plt\n",
    "\n",
    "\n",
    "plt.rcParams[\"figure.figsize\"] = (6, 3)\n",
    "plt.rcParams['axes.grid'] = False\n",
    "plt.rcParams[\"axes.spines.top\"] = False\n",
    "plt.rcParams[\"axes.spines.right\"] = False\n",
    "plt.rcParams[\"font.size\"] = 12\n",
    "plt.rcParams[\"savefig.bbox\"] = \"tight\"\n",
    "plt.rcParams['figure.facecolor'] = 'white'"
   ]
  },
  {
   "cell_type": "markdown",
   "metadata": {},
   "source": [
    "# Read in and simplify shapes\n",
    "- probably three conditions in dataset:\n",
    "1) boxes is empty\n",
    "2) Boxes is a bounding box (four points)\n",
    "3) Boxes is a segmentation mask of many points"
   ]
  },
  {
   "cell_type": "code",
   "execution_count": null,
   "metadata": {},
   "outputs": [],
   "source": [
    "import json\n",
    "\n",
    "json_fp = \"./data/annotations/rotifer-food-capture.v2i.coco/train/_annotations.coco.json\"\n",
    "with open(json_fp, 'r') as f:\n",
    "    json_data = json.load(f)\n",
    "\n",
    "image_ids = [image['id'] for image in json_data['images']]\n",
    "file_names = [image['file_name'] for image in json_data['images']]\n",
    "file_names = [fn.split(\"_jpg\")[0] for fn in file_names]    \n",
    "\n",
    "bboxes, img_id = [], []\n",
    "for annotation in json_data[\"annotations\"]:\n",
    "    bboxes.append(annotation[\"bbox\"])\n",
    "    img_id.append(annotation[\"image_id\"])\n",
    "\n",
    "print(\"images\", len(image_ids), \"fns\", len(file_names), \"\\nannot: (bb)\", len(bboxes), \"ids\", len(img_id))\n",
    "\n",
    "#d = {\"ids\" : image_ids, \"file_names\" : file_names,}\n",
    "\n",
    "#pd.DataFrame.from_dict(d)\n",
    "#df = df.sort_values(by=\"file_names\")"
   ]
  },
  {
   "cell_type": "code",
   "execution_count": null,
   "metadata": {},
   "outputs": [],
   "source": [
    "df_imgs = pd.DataFrame({\"ids\" : image_ids, \"fns\" : file_names})\n",
    "df_annots = pd.DataFrame({\"ids\" : img_id, \"bbox\" : bboxes})\n",
    "df_merged = pd.merge(df_imgs, df_annots, on=\"ids\")\n",
    "df_filtered = df_merged.dropna(subset=\"bbox\")\n",
    "df = df_filtered.sort_values(by=\"fns\").reset_index(drop=True)\n",
    "df"
   ]
  },
  {
   "cell_type": "code",
   "execution_count": null,
   "metadata": {},
   "outputs": [],
   "source": [
    "food_capture_dir = \"./data/images/2024_0323_075154_003_food_capture_frames/\"\n",
    "\n",
    "df[\"img_fp\"] = [os.path.join(food_capture_dir, f + \".jpg\") for f in df.fns.tolist()]\n",
    "from PIL import Image\n",
    "from utils.piv_utils import plot_bbox\n",
    "\n",
    "bbox, fp = df[[\"bbox\", \"img_fp\"]].T.values\n",
    "df[\"cm\"] = [(np.mean([bb[0], bb[0] + bb[2]]), np.mean([bb[1], bb[1] + bb[3]])) for bb in bbox]\n",
    "\n",
    "bbox[0], fp[0]"
   ]
  },
  {
   "cell_type": "code",
   "execution_count": null,
   "metadata": {},
   "outputs": [],
   "source": [
    "for nth in range(0, 100, 10):\n",
    "    plt.figure()\n",
    "    plt.imshow(Image.open(fp[nth]))\n",
    "    plt.plot([bbox[nth][0], bbox[nth][0] + bbox[nth][2]],\n",
    "             [bbox[nth][1], bbox[nth][1] + bbox[nth][3]], \"+r\")\n",
    "    plt.plot(np.mean([bbox[nth][0], bbox[nth][0] + bbox[nth][2]]),\n",
    "             np.mean([bbox[nth][1], bbox[nth][1] + bbox[nth][3]]), \"go\")\n",
    "    plt.plot(df.cm.iloc[nth][0], df.cm.iloc[nth][1], \"k.\")\n",
    "    #plot_bbox(bbox[0])"
   ]
  },
  {
   "cell_type": "code",
   "execution_count": null,
   "metadata": {},
   "outputs": [],
   "source": [
    "df.to_csv(\"./data/csvs/metadata_food_capture.csv\", index=False)"
   ]
  },
  {
   "cell_type": "markdown",
   "metadata": {},
   "source": [
    "# 2. 2024_0409_183844_105"
   ]
  },
  {
   "cell_type": "code",
   "execution_count": 42,
   "metadata": {},
   "outputs": [
    {
     "name": "stdout",
     "output_type": "stream",
     "text": [
      "images 278 fns 278 \n",
      "annot: (bb) 408 ids 408\n"
     ]
    }
   ],
   "source": [
    "import json\n",
    "\n",
    "json_fp = \"./data/annotations/rotifer-food-capture-0409-105.v1i.coco/train/_annotations.coco.json\"\n",
    "with open(json_fp, 'r') as f:\n",
    "    json_data = json.load(f)\n",
    "\n",
    "image_ids = [image['id'] for image in json_data['images']]\n",
    "file_names = [image['file_name'] for image in json_data['images']]\n",
    "file_names = [fn.split(\"_jpg\")[0] for fn in file_names]    \n",
    "\n",
    "bboxes, img_id = [], []\n",
    "for annotation in json_data[\"annotations\"]:\n",
    "    bboxes.append(annotation[\"bbox\"])\n",
    "    img_id.append(annotation[\"image_id\"])\n",
    "\n",
    "print(\"images\", len(image_ids), \"fns\", len(file_names), \"\\nannot: (bb)\", len(bboxes), \"ids\", len(img_id))\n",
    "# are all BBOXES taken???"
   ]
  },
  {
   "cell_type": "code",
   "execution_count": 43,
   "metadata": {},
   "outputs": [
    {
     "data": {
      "text/html": [
       "<div>\n",
       "<style scoped>\n",
       "    .dataframe tbody tr th:only-of-type {\n",
       "        vertical-align: middle;\n",
       "    }\n",
       "\n",
       "    .dataframe tbody tr th {\n",
       "        vertical-align: top;\n",
       "    }\n",
       "\n",
       "    .dataframe thead th {\n",
       "        text-align: right;\n",
       "    }\n",
       "</style>\n",
       "<table border=\"1\" class=\"dataframe\">\n",
       "  <thead>\n",
       "    <tr style=\"text-align: right;\">\n",
       "      <th></th>\n",
       "      <th>ids</th>\n",
       "      <th>fns</th>\n",
       "      <th>bbox</th>\n",
       "    </tr>\n",
       "  </thead>\n",
       "  <tbody>\n",
       "    <tr>\n",
       "      <th>0</th>\n",
       "      <td>14</td>\n",
       "      <td>frame_00060</td>\n",
       "      <td>[96, 169, 29.42, 19.95]</td>\n",
       "    </tr>\n",
       "    <tr>\n",
       "      <th>1</th>\n",
       "      <td>132</td>\n",
       "      <td>frame_00061</td>\n",
       "      <td>[113, 168, 26.19, 21.31]</td>\n",
       "    </tr>\n",
       "    <tr>\n",
       "      <th>2</th>\n",
       "      <td>84</td>\n",
       "      <td>frame_00062</td>\n",
       "      <td>[126, 171, 26.19, 21.31]</td>\n",
       "    </tr>\n",
       "    <tr>\n",
       "      <th>3</th>\n",
       "      <td>125</td>\n",
       "      <td>frame_00063</td>\n",
       "      <td>[141, 172, 26.19, 21.31]</td>\n",
       "    </tr>\n",
       "    <tr>\n",
       "      <th>4</th>\n",
       "      <td>106</td>\n",
       "      <td>frame_00064</td>\n",
       "      <td>[159, 175, 26.19, 21.31]</td>\n",
       "    </tr>\n",
       "    <tr>\n",
       "      <th>...</th>\n",
       "      <td>...</td>\n",
       "      <td>...</td>\n",
       "      <td>...</td>\n",
       "    </tr>\n",
       "    <tr>\n",
       "      <th>403</th>\n",
       "      <td>38</td>\n",
       "      <td>frame_01909</td>\n",
       "      <td>[426, 229, 19.94, 17.84]</td>\n",
       "    </tr>\n",
       "    <tr>\n",
       "      <th>404</th>\n",
       "      <td>20</td>\n",
       "      <td>frame_01910</td>\n",
       "      <td>[428, 230, 19.94, 17.84]</td>\n",
       "    </tr>\n",
       "    <tr>\n",
       "      <th>405</th>\n",
       "      <td>115</td>\n",
       "      <td>frame_01911</td>\n",
       "      <td>[429, 229, 19.94, 17.84]</td>\n",
       "    </tr>\n",
       "    <tr>\n",
       "      <th>406</th>\n",
       "      <td>255</td>\n",
       "      <td>frame_01912</td>\n",
       "      <td>[430, 227, 19.94, 17.84]</td>\n",
       "    </tr>\n",
       "    <tr>\n",
       "      <th>407</th>\n",
       "      <td>174</td>\n",
       "      <td>frame_01913</td>\n",
       "      <td>[432, 227, 19.94, 17.84]</td>\n",
       "    </tr>\n",
       "  </tbody>\n",
       "</table>\n",
       "<p>408 rows × 3 columns</p>\n",
       "</div>"
      ],
      "text/plain": [
       "     ids          fns                      bbox\n",
       "0     14  frame_00060   [96, 169, 29.42, 19.95]\n",
       "1    132  frame_00061  [113, 168, 26.19, 21.31]\n",
       "2     84  frame_00062  [126, 171, 26.19, 21.31]\n",
       "3    125  frame_00063  [141, 172, 26.19, 21.31]\n",
       "4    106  frame_00064  [159, 175, 26.19, 21.31]\n",
       "..   ...          ...                       ...\n",
       "403   38  frame_01909  [426, 229, 19.94, 17.84]\n",
       "404   20  frame_01910  [428, 230, 19.94, 17.84]\n",
       "405  115  frame_01911  [429, 229, 19.94, 17.84]\n",
       "406  255  frame_01912  [430, 227, 19.94, 17.84]\n",
       "407  174  frame_01913  [432, 227, 19.94, 17.84]\n",
       "\n",
       "[408 rows x 3 columns]"
      ]
     },
     "execution_count": 43,
     "metadata": {},
     "output_type": "execute_result"
    }
   ],
   "source": [
    "df_imgs = pd.DataFrame({\"ids\" : image_ids, \"fns\" : file_names})\n",
    "df_annots = pd.DataFrame({\"ids\" : img_id, \"bbox\" : bboxes})\n",
    "df_merged = pd.merge(df_imgs, df_annots, on=\"ids\")\n",
    "df_filtered = df_merged.dropna(subset=\"bbox\")\n",
    "df = df_filtered.sort_values(by=\"fns\").reset_index(drop=True)\n",
    "df"
   ]
  },
  {
   "cell_type": "code",
   "execution_count": 44,
   "metadata": {},
   "outputs": [],
   "source": [
    "df[\"img_idx\"] = [int(s[-1]) for s in df.fns.str.split(\"_\")]\n",
    "df[\"frame\"] = df[\"img_idx\"]\n",
    "df = df.set_index(\"img_idx\")\n",
    "df[\"particle\"] = None\n",
    "\n",
    "capture_frames = [[60,95],[1305,1349],[1553,1611],[1737,1777],[1817,1899],[1863,1913]]\n",
    "\n",
    "for nth, cut in enumerate(capture_frames):\n",
    "        idx = np.arange(cut[0], cut[1]+1)\n",
    "        df.loc[df.index.isin(idx), \"particle\"] = int(nth) + 1\n",
    "\n",
    "\n",
    "for nth, cut in enumerate(capture_frames):\n",
    "        idx = np.arange(cut[0], cut[1]+1)\n",
    "        fcounts = sum(df.frame.between(cut[0], cut[1]+1))\n",
    "        #df.loc[df.index.isin(idx), \"particle\"] = int(nth) + 1\n",
    "        print(len(idx), fcounts)\n",
    "\n",
    "df.to_csv(\"./data/csvs/metadata_food_capture_0409_105_prefinal.csv\")\n",
    "# manually adjusted the particle number in metadata_food_capture_0409_105_prefinal_manualadjust.csv\n",
    "# unfortunatly 1817-1899 and the last one overlap, so probably lost this one somehow?!"
   ]
  },
  {
   "cell_type": "code",
   "execution_count": 49,
   "metadata": {},
   "outputs": [],
   "source": [
    "df_adjusted = pd.read_csv(\"./data/csvs/metadata_food_capture_0409_105_prefinal_manualadjust.csv\")\n",
    "df_adjusted[\"bbox\"] = df_adjusted[\"bbox\"].apply(eval)"
   ]
  },
  {
   "cell_type": "code",
   "execution_count": 50,
   "metadata": {},
   "outputs": [
    {
     "data": {
      "text/plain": [
       "([96, 169, 29.42, 19.95],\n",
       " './data/images/2024_0409_183844_105_food_capture_frames/frame_00060.jpg')"
      ]
     },
     "execution_count": 50,
     "metadata": {},
     "output_type": "execute_result"
    }
   ],
   "source": [
    "food_capture_dir = \"./data/images/2024_0409_183844_105_food_capture_frames/\"\n",
    "\n",
    "df_adjusted[\"img_fp\"] = [os.path.join(food_capture_dir, f + \".jpg\") for f in df_adjusted.fns.tolist()]\n",
    "from PIL import Image\n",
    "from utils.piv_utils import plot_bbox\n",
    "\n",
    "bbox, fp = df_adjusted[[\"bbox\", \"img_fp\"]].T.values\n",
    "\n",
    "df_adjusted[\"cm\"] = [(round(np.mean([bb[0], bb[0] + bb[2]]),2),\n",
    "             round(np.mean([bb[1], bb[1] + bb[3]]),2)) for bb in bbox]\n",
    "\n",
    "bbox[0], fp[0]"
   ]
  },
  {
   "cell_type": "code",
   "execution_count": 53,
   "metadata": {},
   "outputs": [],
   "source": [
    "df_adjusted.to_csv(\"./data/csvs/metadata_food_capture_0409_105_final.csv\")\n"
   ]
  },
  {
   "cell_type": "code",
   "execution_count": null,
   "metadata": {},
   "outputs": [],
   "source": [
    "for nth in range(0, 400, 20):\n",
    "    plt.figure()\n",
    "    plt.imshow(Image.open(fp[nth]))\n",
    "    plt.plot([bbox[nth][0], bbox[nth][0] + bbox[nth][2]],\n",
    "             [bbox[nth][1], bbox[nth][1] + bbox[nth][3]], \"+r\")\n",
    "    plt.plot(np.mean([bbox[nth][0], bbox[nth][0] + bbox[nth][2]]),\n",
    "             np.mean([bbox[nth][1], bbox[nth][1] + bbox[nth][3]]), \"go\")\n",
    "    plt.plot(df_adjusted.cm.iloc[nth][0], df_adjusted.cm.iloc[nth][1], \"k.\")\n",
    "    #plot_bbox(bbox[0])"
   ]
  },
  {
   "cell_type": "markdown",
   "metadata": {},
   "source": [
    "# 3. 2024_0331_007_trimmed"
   ]
  },
  {
   "cell_type": "code",
   "execution_count": 10,
   "metadata": {},
   "outputs": [
    {
     "name": "stdout",
     "output_type": "stream",
     "text": [
      "images 328 fns 328 \n",
      "annot: (bb) 329 ids 329 category ids [ 1  2  3  4  5  6  7  8  9 10 11]\n"
     ]
    }
   ],
   "source": [
    "import json\n",
    "\n",
    "json_fp = \"./data/annotations/2024_0331_007_food_capture.v1i.coco/train/_annotations.coco.json\"\n",
    "with open(json_fp, 'r') as f:\n",
    "    json_data = json.load(f)\n",
    "\n",
    "image_ids = [image['id'] for image in json_data['images']]\n",
    "file_names = [image['file_name'] for image in json_data['images']]\n",
    "file_names = [fn.split(\"_jpg\")[0] for fn in file_names]    \n",
    "\n",
    "bboxes, img_id, cat_id = [], [], []\n",
    "for annotation in json_data[\"annotations\"]:\n",
    "    bboxes.append(annotation[\"bbox\"])\n",
    "    img_id.append(annotation[\"image_id\"])\n",
    "    cat_id.append(annotation[\"category_id\"])\n",
    "\n",
    "print(\"images\", len(image_ids), \"fns\", len(file_names), \"\\nannot: (bb)\", len(bboxes), \"ids\", len(img_id), \"category ids\", np.unique(cat_id))"
   ]
  },
  {
   "cell_type": "code",
   "execution_count": 11,
   "metadata": {},
   "outputs": [
    {
     "data": {
      "text/html": [
       "<div>\n",
       "<style scoped>\n",
       "    .dataframe tbody tr th:only-of-type {\n",
       "        vertical-align: middle;\n",
       "    }\n",
       "\n",
       "    .dataframe tbody tr th {\n",
       "        vertical-align: top;\n",
       "    }\n",
       "\n",
       "    .dataframe thead th {\n",
       "        text-align: right;\n",
       "    }\n",
       "</style>\n",
       "<table border=\"1\" class=\"dataframe\">\n",
       "  <thead>\n",
       "    <tr style=\"text-align: right;\">\n",
       "      <th></th>\n",
       "      <th>ids</th>\n",
       "      <th>fns</th>\n",
       "      <th>bbox</th>\n",
       "      <th>particle</th>\n",
       "    </tr>\n",
       "  </thead>\n",
       "  <tbody>\n",
       "    <tr>\n",
       "      <th>0</th>\n",
       "      <td>282</td>\n",
       "      <td>frame_00000</td>\n",
       "      <td>[509, 469, 21.8, 29.06]</td>\n",
       "      <td>1</td>\n",
       "    </tr>\n",
       "    <tr>\n",
       "      <th>1</th>\n",
       "      <td>84</td>\n",
       "      <td>frame_00001</td>\n",
       "      <td>[510, 460, 20.71, 26.74]</td>\n",
       "      <td>1</td>\n",
       "    </tr>\n",
       "    <tr>\n",
       "      <th>2</th>\n",
       "      <td>221</td>\n",
       "      <td>frame_00002</td>\n",
       "      <td>[510, 448, 20.71, 26.74]</td>\n",
       "      <td>1</td>\n",
       "    </tr>\n",
       "    <tr>\n",
       "      <th>3</th>\n",
       "      <td>119</td>\n",
       "      <td>frame_00003</td>\n",
       "      <td>[510, 436, 20.71, 26.74]</td>\n",
       "      <td>1</td>\n",
       "    </tr>\n",
       "    <tr>\n",
       "      <th>4</th>\n",
       "      <td>173</td>\n",
       "      <td>frame_00004</td>\n",
       "      <td>[512, 420, 20.71, 26.74]</td>\n",
       "      <td>1</td>\n",
       "    </tr>\n",
       "    <tr>\n",
       "      <th>...</th>\n",
       "      <td>...</td>\n",
       "      <td>...</td>\n",
       "      <td>...</td>\n",
       "      <td>...</td>\n",
       "    </tr>\n",
       "    <tr>\n",
       "      <th>324</th>\n",
       "      <td>57</td>\n",
       "      <td>frame_00680</td>\n",
       "      <td>[511, 69, 16.82, 19.31]</td>\n",
       "      <td>3</td>\n",
       "    </tr>\n",
       "    <tr>\n",
       "      <th>325</th>\n",
       "      <td>140</td>\n",
       "      <td>frame_00681</td>\n",
       "      <td>[509, 71, 16.82, 19.31]</td>\n",
       "      <td>3</td>\n",
       "    </tr>\n",
       "    <tr>\n",
       "      <th>326</th>\n",
       "      <td>10</td>\n",
       "      <td>frame_00682</td>\n",
       "      <td>[509, 69, 16.82, 19.31]</td>\n",
       "      <td>3</td>\n",
       "    </tr>\n",
       "    <tr>\n",
       "      <th>327</th>\n",
       "      <td>6</td>\n",
       "      <td>frame_00683</td>\n",
       "      <td>[511, 67, 16.82, 19.31]</td>\n",
       "      <td>3</td>\n",
       "    </tr>\n",
       "    <tr>\n",
       "      <th>328</th>\n",
       "      <td>22</td>\n",
       "      <td>frame_00684</td>\n",
       "      <td>[512, 61, 16.82, 19.31]</td>\n",
       "      <td>3</td>\n",
       "    </tr>\n",
       "  </tbody>\n",
       "</table>\n",
       "<p>329 rows × 4 columns</p>\n",
       "</div>"
      ],
      "text/plain": [
       "     ids          fns                      bbox  particle\n",
       "0    282  frame_00000   [509, 469, 21.8, 29.06]         1\n",
       "1     84  frame_00001  [510, 460, 20.71, 26.74]         1\n",
       "2    221  frame_00002  [510, 448, 20.71, 26.74]         1\n",
       "3    119  frame_00003  [510, 436, 20.71, 26.74]         1\n",
       "4    173  frame_00004  [512, 420, 20.71, 26.74]         1\n",
       "..   ...          ...                       ...       ...\n",
       "324   57  frame_00680   [511, 69, 16.82, 19.31]         3\n",
       "325  140  frame_00681   [509, 71, 16.82, 19.31]         3\n",
       "326   10  frame_00682   [509, 69, 16.82, 19.31]         3\n",
       "327    6  frame_00683   [511, 67, 16.82, 19.31]         3\n",
       "328   22  frame_00684   [512, 61, 16.82, 19.31]         3\n",
       "\n",
       "[329 rows x 4 columns]"
      ]
     },
     "execution_count": 11,
     "metadata": {},
     "output_type": "execute_result"
    }
   ],
   "source": [
    "df_imgs = pd.DataFrame({\"ids\" : image_ids, \"fns\" : file_names})\n",
    "df_annots = pd.DataFrame({\"ids\" : img_id, \"bbox\" : bboxes, \"particle\" : cat_id})\n",
    "df_merged = pd.merge(df_imgs, df_annots, on=\"ids\")\n",
    "df_filtered = df_merged.dropna(subset=\"bbox\")\n",
    "df = df_filtered.sort_values(by=\"fns\").reset_index(drop=True)\n",
    "df"
   ]
  },
  {
   "cell_type": "code",
   "execution_count": 12,
   "metadata": {},
   "outputs": [
    {
     "data": {
      "text/plain": [
       "array([ 1,  4,  5,  6,  7,  9,  8, 10, 11,  2,  3])"
      ]
     },
     "execution_count": 12,
     "metadata": {},
     "output_type": "execute_result"
    }
   ],
   "source": [
    "df.particle.unique()"
   ]
  },
  {
   "cell_type": "code",
   "execution_count": 13,
   "metadata": {},
   "outputs": [
    {
     "data": {
      "text/plain": [
       "([509, 469, 21.8, 29.06],\n",
       " './data/images/2024_0331_091926_007_trimmed_food_capture_frames/frame_00000.jpg')"
      ]
     },
     "execution_count": 13,
     "metadata": {},
     "output_type": "execute_result"
    }
   ],
   "source": [
    "food_capture_dir = \"./data/images/2024_0331_091926_007_trimmed_food_capture_frames/\"\n",
    "\n",
    "df[\"img_fp\"] = [os.path.join(food_capture_dir, f + \".jpg\") for f in df.fns.tolist()]\n",
    "from PIL import Image\n",
    "from utils.piv_utils import plot_bbox\n",
    "\n",
    "bbox, fp = df[[\"bbox\", \"img_fp\"]].T.values\n",
    "df[\"cm\"] = [(np.mean([bb[0], bb[0] + bb[2]]), np.mean([bb[1], bb[1] + bb[3]])) for bb in bbox]\n",
    "\n",
    "bbox[0], fp[0]"
   ]
  },
  {
   "cell_type": "code",
   "execution_count": null,
   "metadata": {},
   "outputs": [],
   "source": [
    "for nth in range(0, 100, 10):\n",
    "    plt.figure()\n",
    "    plt.imshow(Image.open(fp[nth]))\n",
    "    plt.plot([bbox[nth][0], bbox[nth][0] + bbox[nth][2]],\n",
    "             [bbox[nth][1], bbox[nth][1] + bbox[nth][3]], \"+r\")\n",
    "    plt.plot(np.mean([bbox[nth][0], bbox[nth][0] + bbox[nth][2]]),\n",
    "             np.mean([bbox[nth][1], bbox[nth][1] + bbox[nth][3]]), \"go\")\n",
    "    plt.plot(df.cm.iloc[nth][0], df.cm.iloc[nth][1], \"k.\")\n",
    "    #plot_bbox(bbox[0])"
   ]
  },
  {
   "cell_type": "code",
   "execution_count": 15,
   "metadata": {},
   "outputs": [],
   "source": [
    "df.to_csv(\"./data/csvs/metadata_food_capture_2024_0331_091926_007_trimmed.csv\", index=False)"
   ]
  },
  {
   "cell_type": "markdown",
   "metadata": {},
   "source": [
    "# 4. 2024_0403_115801_028.MP4 - 120Hz"
   ]
  },
  {
   "cell_type": "code",
   "execution_count": 2,
   "metadata": {},
   "outputs": [
    {
     "name": "stdout",
     "output_type": "stream",
     "text": [
      "images 202 fns 202 \n",
      "annot: (bb) 202 ids 202 category ids [1 2]\n"
     ]
    }
   ],
   "source": [
    "import json\n",
    "\n",
    "json_fp = \"./data/annotations/2024_0403_115801_028-120hz-capt.v1i.coco/train/_annotations.coco.json\"\n",
    "with open(json_fp, 'r') as f:\n",
    "    json_data = json.load(f)\n",
    "\n",
    "image_ids = [image['id'] for image in json_data['images']]\n",
    "file_names = [image['file_name'] for image in json_data['images']]\n",
    "file_names = [fn.split(\"_jpg\")[0] for fn in file_names]    \n",
    "\n",
    "bboxes, img_id, cat_id = [], [], []\n",
    "for annotation in json_data[\"annotations\"]:\n",
    "    bboxes.append(annotation[\"bbox\"])\n",
    "    img_id.append(annotation[\"image_id\"])\n",
    "    cat_id.append(annotation[\"category_id\"])\n",
    "\n",
    "print(\"images\", len(image_ids), \"fns\", len(file_names), \"\\nannot: (bb)\", len(bboxes), \"ids\", len(img_id), \"category ids\", np.unique(cat_id))"
   ]
  },
  {
   "cell_type": "code",
   "execution_count": 3,
   "metadata": {},
   "outputs": [
    {
     "data": {
      "text/html": [
       "<div>\n",
       "<style scoped>\n",
       "    .dataframe tbody tr th:only-of-type {\n",
       "        vertical-align: middle;\n",
       "    }\n",
       "\n",
       "    .dataframe tbody tr th {\n",
       "        vertical-align: top;\n",
       "    }\n",
       "\n",
       "    .dataframe thead th {\n",
       "        text-align: right;\n",
       "    }\n",
       "</style>\n",
       "<table border=\"1\" class=\"dataframe\">\n",
       "  <thead>\n",
       "    <tr style=\"text-align: right;\">\n",
       "      <th></th>\n",
       "      <th>ids</th>\n",
       "      <th>fns</th>\n",
       "      <th>bbox</th>\n",
       "      <th>particle</th>\n",
       "    </tr>\n",
       "  </thead>\n",
       "  <tbody>\n",
       "    <tr>\n",
       "      <th>0</th>\n",
       "      <td>108</td>\n",
       "      <td>frame_00140</td>\n",
       "      <td>[468, 319, 12.96, 13.84]</td>\n",
       "      <td>1</td>\n",
       "    </tr>\n",
       "    <tr>\n",
       "      <th>1</th>\n",
       "      <td>71</td>\n",
       "      <td>frame_00141</td>\n",
       "      <td>[463, 320, 12.96, 13.84]</td>\n",
       "      <td>1</td>\n",
       "    </tr>\n",
       "    <tr>\n",
       "      <th>2</th>\n",
       "      <td>4</td>\n",
       "      <td>frame_00142</td>\n",
       "      <td>[457, 323, 12.96, 13.84]</td>\n",
       "      <td>1</td>\n",
       "    </tr>\n",
       "    <tr>\n",
       "      <th>3</th>\n",
       "      <td>30</td>\n",
       "      <td>frame_00143</td>\n",
       "      <td>[450, 326, 12.96, 13.84]</td>\n",
       "      <td>1</td>\n",
       "    </tr>\n",
       "    <tr>\n",
       "      <th>4</th>\n",
       "      <td>119</td>\n",
       "      <td>frame_00144</td>\n",
       "      <td>[445, 329, 12.96, 13.84]</td>\n",
       "      <td>1</td>\n",
       "    </tr>\n",
       "    <tr>\n",
       "      <th>...</th>\n",
       "      <td>...</td>\n",
       "      <td>...</td>\n",
       "      <td>...</td>\n",
       "      <td>...</td>\n",
       "    </tr>\n",
       "    <tr>\n",
       "      <th>197</th>\n",
       "      <td>117</td>\n",
       "      <td>frame_01126</td>\n",
       "      <td>[320, 396, 9.31, 9.96]</td>\n",
       "      <td>2</td>\n",
       "    </tr>\n",
       "    <tr>\n",
       "      <th>198</th>\n",
       "      <td>9</td>\n",
       "      <td>frame_01127</td>\n",
       "      <td>[320, 396, 9.31, 9.96]</td>\n",
       "      <td>2</td>\n",
       "    </tr>\n",
       "    <tr>\n",
       "      <th>199</th>\n",
       "      <td>113</td>\n",
       "      <td>frame_01128</td>\n",
       "      <td>[320, 397, 9.31, 9.96]</td>\n",
       "      <td>2</td>\n",
       "    </tr>\n",
       "    <tr>\n",
       "      <th>200</th>\n",
       "      <td>183</td>\n",
       "      <td>frame_01129</td>\n",
       "      <td>[321, 399, 9.31, 9.96]</td>\n",
       "      <td>2</td>\n",
       "    </tr>\n",
       "    <tr>\n",
       "      <th>201</th>\n",
       "      <td>8</td>\n",
       "      <td>frame_01130</td>\n",
       "      <td>[321, 399, 9.31, 9.96]</td>\n",
       "      <td>2</td>\n",
       "    </tr>\n",
       "  </tbody>\n",
       "</table>\n",
       "<p>202 rows × 4 columns</p>\n",
       "</div>"
      ],
      "text/plain": [
       "     ids          fns                      bbox  particle\n",
       "0    108  frame_00140  [468, 319, 12.96, 13.84]         1\n",
       "1     71  frame_00141  [463, 320, 12.96, 13.84]         1\n",
       "2      4  frame_00142  [457, 323, 12.96, 13.84]         1\n",
       "3     30  frame_00143  [450, 326, 12.96, 13.84]         1\n",
       "4    119  frame_00144  [445, 329, 12.96, 13.84]         1\n",
       "..   ...          ...                       ...       ...\n",
       "197  117  frame_01126    [320, 396, 9.31, 9.96]         2\n",
       "198    9  frame_01127    [320, 396, 9.31, 9.96]         2\n",
       "199  113  frame_01128    [320, 397, 9.31, 9.96]         2\n",
       "200  183  frame_01129    [321, 399, 9.31, 9.96]         2\n",
       "201    8  frame_01130    [321, 399, 9.31, 9.96]         2\n",
       "\n",
       "[202 rows x 4 columns]"
      ]
     },
     "execution_count": 3,
     "metadata": {},
     "output_type": "execute_result"
    }
   ],
   "source": [
    "df_imgs = pd.DataFrame({\"ids\" : image_ids, \"fns\" : file_names})\n",
    "df_annots = pd.DataFrame({\"ids\" : img_id, \"bbox\" : bboxes, \"particle\" : cat_id})\n",
    "df_merged = pd.merge(df_imgs, df_annots, on=\"ids\")\n",
    "df_filtered = df_merged.dropna(subset=\"bbox\")\n",
    "df = df_filtered.sort_values(by=\"fns\").reset_index(drop=True)\n",
    "df"
   ]
  },
  {
   "cell_type": "code",
   "execution_count": 4,
   "metadata": {},
   "outputs": [
    {
     "data": {
      "text/plain": [
       "([468, 319, 12.96, 13.84],\n",
       " './data/images/2024_0403_115801_028/frame_00140.jpg')"
      ]
     },
     "execution_count": 4,
     "metadata": {},
     "output_type": "execute_result"
    }
   ],
   "source": [
    "food_capture_dir = \"./data/images/2024_0403_115801_028/\"\n",
    "\n",
    "df[\"img_fp\"] = [os.path.join(food_capture_dir, f + \".jpg\") for f in df.fns.tolist()]\n",
    "from PIL import Image\n",
    "from utils.piv_utils import plot_bbox\n",
    "\n",
    "bbox, fp = df[[\"bbox\", \"img_fp\"]].T.values\n",
    "df[\"cm\"] = [(np.mean([bb[0], bb[0] + bb[2]]), np.mean([bb[1], bb[1] + bb[3]])) for bb in bbox]\n",
    "\n",
    "bbox[0], fp[0]"
   ]
  },
  {
   "cell_type": "code",
   "execution_count": null,
   "metadata": {},
   "outputs": [],
   "source": [
    "for nth in range(0, 100, 10):\n",
    "    plt.figure()\n",
    "    plt.imshow(Image.open(fp[nth]))\n",
    "    plt.plot([bbox[nth][0], bbox[nth][0] + bbox[nth][2]],\n",
    "             [bbox[nth][1], bbox[nth][1] + bbox[nth][3]], \"+r\")\n",
    "    plt.plot(np.mean([bbox[nth][0], bbox[nth][0] + bbox[nth][2]]),\n",
    "             np.mean([bbox[nth][1], bbox[nth][1] + bbox[nth][3]]), \"go\")\n",
    "    plt.plot(df.cm.iloc[nth][0], df.cm.iloc[nth][1], \"k.\")\n",
    "    #plot_bbox(bbox[0])"
   ]
  },
  {
   "cell_type": "code",
   "execution_count": 6,
   "metadata": {},
   "outputs": [],
   "source": [
    "df.to_csv(\"./data/csvs/metadata_food_capture_2024_0403_115801_028.csv\", index=False)"
   ]
  },
  {
   "cell_type": "code",
   "execution_count": null,
   "metadata": {},
   "outputs": [],
   "source": []
  }
 ],
 "metadata": {
  "kernelspec": {
   "display_name": "base",
   "language": "python",
   "name": "python3"
  },
  "language_info": {
   "codemirror_mode": {
    "name": "ipython",
    "version": 3
   },
   "file_extension": ".py",
   "mimetype": "text/x-python",
   "name": "python",
   "nbconvert_exporter": "python",
   "pygments_lexer": "ipython3",
   "version": "3.9.16"
  }
 },
 "nbformat": 4,
 "nbformat_minor": 2
}
