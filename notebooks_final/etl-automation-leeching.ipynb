{
 "cells": [
  {
   "cell_type": "code",
   "execution_count": 4,
   "metadata": {},
   "outputs": [],
   "source": [
    "import sys\n",
    "import os\n",
    "sys.path.append(os.path.abspath('..'))\n",
    "import pandas as pd\n",
    "import numpy as np\n",
    "import cv2  # conda install -c conda-forge opencv\n",
    "import matplotlib.pyplot as plt\n",
    "\n",
    "from utils.utils import get_video_properties, get_contours_from_segmasks, get_contour_stats, rotate_masks_and_contours, rotate_masks_and_images, find_top_bottom_points_from_contours, export_selected_frames, normalize_contours_by_centers, shift_contours, autocorr_with_interpolation, transform_points_to_original_space\n",
    "from scipy.signal import find_peaks\n",
    "\n",
    "\n",
    "plt.rcParams[\"figure.figsize\"] = (6, 3)\n",
    "plt.rcParams['axes.grid'] = False\n",
    "plt.rcParams[\"axes.spines.top\"] = False\n",
    "plt.rcParams[\"axes.spines.right\"] = False\n",
    "plt.rcParams[\"font.size\"] = 12\n",
    "plt.rcParams[\"savefig.bbox\"] = \"tight\"\n",
    "plt.rcParams['figure.facecolor'] = 'white'\n",
    "\n",
    "results_save_path = \"./results/data/leeching/\"\n",
    "os.makedirs(results_save_path, exist_ok=True)"
   ]
  },
  {
   "cell_type": "markdown",
   "metadata": {},
   "source": [
    "# 1. Paths and Read-In (segmentation mask based)"
   ]
  },
  {
   "cell_type": "code",
   "execution_count": 5,
   "metadata": {},
   "outputs": [
    {
     "name": "stdout",
     "output_type": "stream",
     "text": [
      "D low - FHD, pixel_per_real_width =  2.127659\n"
     ]
    },
    {
     "data": {
      "text/html": [
       "<div>\n",
       "<style scoped>\n",
       "    .dataframe tbody tr th:only-of-type {\n",
       "        vertical-align: middle;\n",
       "    }\n",
       "\n",
       "    .dataframe tbody tr th {\n",
       "        vertical-align: top;\n",
       "    }\n",
       "\n",
       "    .dataframe thead th {\n",
       "        text-align: right;\n",
       "    }\n",
       "</style>\n",
       "<table border=\"1\" class=\"dataframe\">\n",
       "  <thead>\n",
       "    <tr style=\"text-align: right;\">\n",
       "      <th></th>\n",
       "      <th>filename</th>\n",
       "      <th>fps</th>\n",
       "      <th>num_frames</th>\n",
       "      <th>width</th>\n",
       "      <th>height</th>\n",
       "    </tr>\n",
       "  </thead>\n",
       "  <tbody>\n",
       "    <tr>\n",
       "      <th>0</th>\n",
       "      <td>2024_0430_200515_048.MP4</td>\n",
       "      <td>60</td>\n",
       "      <td>2354</td>\n",
       "      <td>1920</td>\n",
       "      <td>1080</td>\n",
       "    </tr>\n",
       "    <tr>\n",
       "      <th>1</th>\n",
       "      <td>2024_0502_183848_065.MP4</td>\n",
       "      <td>60</td>\n",
       "      <td>1038</td>\n",
       "      <td>1920</td>\n",
       "      <td>1080</td>\n",
       "    </tr>\n",
       "    <tr>\n",
       "      <th>2</th>\n",
       "      <td>2024_0502_184114_068.MP4</td>\n",
       "      <td>60</td>\n",
       "      <td>843</td>\n",
       "      <td>1920</td>\n",
       "      <td>1080</td>\n",
       "    </tr>\n",
       "    <tr>\n",
       "      <th>3</th>\n",
       "      <td>2024_0502_184450_071.MP4</td>\n",
       "      <td>60</td>\n",
       "      <td>2074</td>\n",
       "      <td>1920</td>\n",
       "      <td>1080</td>\n",
       "    </tr>\n",
       "    <tr>\n",
       "      <th>4</th>\n",
       "      <td>2024_0502_184534_072.MP4</td>\n",
       "      <td>60</td>\n",
       "      <td>2156</td>\n",
       "      <td>1920</td>\n",
       "      <td>1080</td>\n",
       "    </tr>\n",
       "    <tr>\n",
       "      <th>5</th>\n",
       "      <td>2024_0502_184616_073.MP4</td>\n",
       "      <td>60</td>\n",
       "      <td>1372</td>\n",
       "      <td>1920</td>\n",
       "      <td>1080</td>\n",
       "    </tr>\n",
       "    <tr>\n",
       "      <th>6</th>\n",
       "      <td>2024_0502_184929_077.MP4</td>\n",
       "      <td>60</td>\n",
       "      <td>776</td>\n",
       "      <td>1920</td>\n",
       "      <td>1080</td>\n",
       "    </tr>\n",
       "    <tr>\n",
       "      <th>7</th>\n",
       "      <td>2024_0502_184947_078.MP4</td>\n",
       "      <td>60</td>\n",
       "      <td>756</td>\n",
       "      <td>1920</td>\n",
       "      <td>1080</td>\n",
       "    </tr>\n",
       "    <tr>\n",
       "      <th>8</th>\n",
       "      <td>2024_0502_185400_083.MP4</td>\n",
       "      <td>60</td>\n",
       "      <td>1333</td>\n",
       "      <td>1920</td>\n",
       "      <td>1080</td>\n",
       "    </tr>\n",
       "    <tr>\n",
       "      <th>9</th>\n",
       "      <td>2024_0502_185557_084.MP4</td>\n",
       "      <td>60</td>\n",
       "      <td>1648</td>\n",
       "      <td>1920</td>\n",
       "      <td>1080</td>\n",
       "    </tr>\n",
       "    <tr>\n",
       "      <th>10</th>\n",
       "      <td>2024_0502_192159_105.MP4</td>\n",
       "      <td>60</td>\n",
       "      <td>1896</td>\n",
       "      <td>1920</td>\n",
       "      <td>1080</td>\n",
       "    </tr>\n",
       "    <tr>\n",
       "      <th>11</th>\n",
       "      <td>2024_0502_192334_108.MP4</td>\n",
       "      <td>60</td>\n",
       "      <td>909</td>\n",
       "      <td>1920</td>\n",
       "      <td>1080</td>\n",
       "    </tr>\n",
       "    <tr>\n",
       "      <th>12</th>\n",
       "      <td>2024_0502_193112_114.MP4</td>\n",
       "      <td>60</td>\n",
       "      <td>1478</td>\n",
       "      <td>1920</td>\n",
       "      <td>1080</td>\n",
       "    </tr>\n",
       "    <tr>\n",
       "      <th>13</th>\n",
       "      <td>2024_0502_193145_115.MP4</td>\n",
       "      <td>60</td>\n",
       "      <td>1748</td>\n",
       "      <td>1920</td>\n",
       "      <td>1080</td>\n",
       "    </tr>\n",
       "  </tbody>\n",
       "</table>\n",
       "</div>"
      ],
      "text/plain": [
       "                    filename  fps  num_frames  width  height\n",
       "0   2024_0430_200515_048.MP4   60        2354   1920    1080\n",
       "1   2024_0502_183848_065.MP4   60        1038   1920    1080\n",
       "2   2024_0502_184114_068.MP4   60         843   1920    1080\n",
       "3   2024_0502_184450_071.MP4   60        2074   1920    1080\n",
       "4   2024_0502_184534_072.MP4   60        2156   1920    1080\n",
       "5   2024_0502_184616_073.MP4   60        1372   1920    1080\n",
       "6   2024_0502_184929_077.MP4   60         776   1920    1080\n",
       "7   2024_0502_184947_078.MP4   60         756   1920    1080\n",
       "8   2024_0502_185400_083.MP4   60        1333   1920    1080\n",
       "9   2024_0502_185557_084.MP4   60        1648   1920    1080\n",
       "10  2024_0502_192159_105.MP4   60        1896   1920    1080\n",
       "11  2024_0502_192334_108.MP4   60         909   1920    1080\n",
       "12  2024_0502_193112_114.MP4   60        1478   1920    1080\n",
       "13  2024_0502_193145_115.MP4   60        1748   1920    1080"
      ]
     },
     "execution_count": 5,
     "metadata": {},
     "output_type": "execute_result"
    }
   ],
   "source": [
    "# For the automation consider only the segemnted examples\n",
    "masks_dir = \"../data/videos/leeching/philodina/seg_masks/\"\n",
    "masks_path_names = sorted([dir for dir in os.listdir(masks_dir) if dir.endswith(\"masks\")])\n",
    "mask_filepaths = [f\"{masks_dir}{mpath}/\"for mpath in masks_path_names]\n",
    "\n",
    "# Corresponding videos\n",
    "vid_path = \"../data/videos/leeching/philodina/ori_videos/\"\n",
    "vid_filenames = [fn.split(\"_masks\")[0] + \".MP4\" for fn in masks_path_names]\n",
    "vid_props = {k : get_video_properties(vid_path, k) for k in vid_filenames}\n",
    "df = pd.DataFrame.from_dict(vid_props, orient=\"index\").reset_index()\n",
    "df.columns = [\"filename\", \"fps\", \"num_frames\", \"width\", \"height\"]\n",
    "#df.to_csv(\"./data/results/leeching/df.csv\", index=False)\n",
    "\n",
    "# Scale\n",
    "pixel_per_real_width =  2.127659 #  >> for Dlow\n",
    "mpp = 0.47 # microns_per_pixel for Dlow\n",
    "print(\"D low - FHD, pixel_per_real_width = \", pixel_per_real_width)\n",
    " \n",
    "df"
   ]
  },
  {
   "cell_type": "markdown",
   "metadata": {},
   "source": [
    "# 2. Loop over recordings"
   ]
  },
  {
   "cell_type": "code",
   "execution_count": 6,
   "metadata": {},
   "outputs": [
    {
     "name": "stdout",
     "output_type": "stream",
     "text": [
      "2024_0430_200515_048.MP4\n",
      "2200.0\n",
      "2024_0502_183848_065.MP4\n",
      "2451.5\n",
      "2024_0502_184114_068.MP4\n",
      "2219.0\n",
      "2024_0502_184450_071.MP4\n",
      "2201.5\n",
      "2024_0502_184534_072.MP4\n",
      "2261.0\n",
      "2024_0502_184616_073.MP4\n",
      "2214.5\n",
      "2024_0502_184929_077.MP4\n",
      "3907.0\n",
      "2024_0502_184947_078.MP4\n",
      "4086.0\n",
      "2024_0502_185400_083.MP4\n",
      "2377.5\n",
      "2024_0502_185557_084.MP4\n",
      "4864.5\n",
      "2024_0502_192159_105.MP4\n",
      "2237.5\n",
      "2024_0502_192334_108.MP4\n",
      "5283.5\n",
      "2024_0502_193112_114.MP4\n",
      "4814.0\n",
      "2024_0502_193145_115.MP4\n",
      "3215.5\n"
     ]
    }
   ],
   "source": [
    "# Get Segmentation masks > results of tracking\n",
    "autocorr_idx = [2,3,4,6,7,8,9,10,11]\n",
    "autocorr_results = []\n",
    "perimeters = []\n",
    "\n",
    "ROTATE_MASKS = True\n",
    "SAVE_DFs = True\n",
    "\n",
    "for cidx in range(len(df)):\n",
    "    vid_filename = df.loc[cidx, \"filename\"]; print(vid_filename)\n",
    "    fps = df.loc[cidx, \"fps\"]\n",
    "    num_frames = df.loc[cidx, \"num_frames\"]\n",
    "    cmask_filepath = mask_filepaths[cidx]\n",
    "\n",
    "    # Masks\n",
    "    cmask_filenames = sorted([f for f in os.listdir(cmask_filepath) if f.endswith(\"png\")])\n",
    "    cmask_filepaths = [os.path.join(cmask_filepath, fn) for fn in cmask_filenames]\n",
    "\n",
    "    # Get contours from masks\n",
    "    frames = np.arange(0, len(cmask_filepaths))\n",
    "    time = np.linspace(0, num_frames / fps, num_frames)\n",
    "    contour_list = get_contours_from_segmasks(cmask_filepaths)\n",
    "\n",
    "    # Get contour stats\n",
    "    df_stats = get_contour_stats(contour_list, min_area=2200)\n",
    "    print(df_stats[\"area\"].min())\n",
    "\n",
    "    # Save figures\n",
    "    #results_path = \"./data/results/leeching/\"\n",
    "    save_figure_path = os.path.join(results_save_path, vid_filename.split(\".MP4\")[0])\n",
    "    #os.makedirs(save_figure_path, exist_ok=True)\n",
    "\n",
    "    # export selected frames only\n",
    "    EXPORT_FRAMES = False\n",
    "    export_frames = np.arange(0, len(frames))  # export frames, rather!\n",
    "    img_save_dir = f\"../data/images/{vid_filename.split('.MP4')[0]}/\"\n",
    "    export_selected_frames(os.path.join(vid_path, vid_filename), img_save_dir, export_frames) if EXPORT_FRAMES else None\n",
    "\n",
    "    # Plot\n",
    "    # fig, ax = plt.subplots(1, 1, figsize=(6, 3))\n",
    "    # ax.plot(frames, df_stats[\"perimeter\"], \"-k\")\n",
    "    # ax.set_xlim(0, len(frames))\n",
    "    # ax.set_xlabel(\"frames\")\n",
    "    # ax.set_title(f\"idx {cidx} - {vid_filename}\")\n",
    "    # ax.minorticks_on()\n",
    "    #fig.savefig(f\"{save_figure_path}/perimeter_frames-course.jpg\", dpi=600, bbox_inches='tight')\n",
    "    \n",
    "    if ROTATE_MASKS:\n",
    "        # ROTATE MASKS AND CONTOURS - Rotatation parameters\n",
    "        cm_x, cm_y = df_stats[[\"centroid_x\", \"centroid_y\"]].values.T\n",
    "        centers = [(x, y) for x, y in zip(cm_x, cm_y)]\n",
    "        rot_angles = df_stats[\"orientation\"].values  # fitted ellipse angle\n",
    "        # rotate masks and get rotated contours\n",
    "        rot_masks, rot_contours = rotate_masks_and_contours(centers, rot_angles, cmask_filepaths)\n",
    "        # find top and bottom most points\n",
    "        df_top_bot = pd.DataFrame(find_top_bottom_points_from_contours(rot_contours))\n",
    "        df_points = transform_points_to_original_space(df_top_bot, centers, rot_angles * -1)\n",
    "\n",
    "    if SAVE_DFs:\n",
    "        df_stats.to_csv(f\"{save_figure_path}_df_stats.csv\", index=False)\n",
    "        df_top_bot.to_csv(f\"{save_figure_path}_df_top_bot.csv\", index=False)\n",
    "        df_points.to_csv(f\"{save_figure_path}_df_points.csv\", index=False)"
   ]
  },
  {
   "cell_type": "code",
   "execution_count": 7,
   "metadata": {},
   "outputs": [
    {
     "data": {
      "image/png": "[encoded data removed]",
      "text/plain": [
       "<Figure size 432x432 with 3 Axes>"
      ]
     },
     "metadata": {
      "needs_background": "light"
     },
     "output_type": "display_data"
    }
   ],
   "source": [
    "fig, ax = plt.subplots(3, 1, figsize=(6, 6))\n",
    "\n",
    "ax[0].plot(df_stats[\"area\"], \"-k\")\n",
    "ax[1].plot(df_stats[\"orientation\"], \"-k\")\n",
    "ax[2].plot(df_stats[\"centroid_dist\"], \"-k\")\n",
    "\n",
    "ax[2].set_xlabel('X Label', fontsize=14)  # Adjust font size as needed\n",
    "ax[2].set_ylabel('', fontsize=14)  # Adjust font size as needed\n",
    "ax[2].tick_params(axis='both', which='major', labelsize=12)  # Adjust tick label font size\n",
    "\n",
    "# Save the figure\n",
    "#fig.savefig('my_figure.jpg', dpi=600, bbox_inches='tight')  # Specify resolution and tight bounding box"
   ]
  },
  {
   "cell_type": "markdown",
   "metadata": {},
   "source": [
    "# 2. Rotate Masks and Contours"
   ]
  },
  {
   "cell_type": "code",
   "execution_count": 8,
   "metadata": {},
   "outputs": [],
   "source": [
    "# Rotatation parameters\n",
    "cm_x, cm_y = df_stats[[\"centroid_x\", \"centroid_y\"]].values.T\n",
    "centers = [(x, y) for x, y in zip(cm_x, cm_y)]\n",
    "rot_angles = df_stats[\"orientation\"].values  # fitted ellipse angle\n",
    "\n",
    "# rotate masks and get rotated contours\n",
    "rot_masks, rot_contours = rotate_masks_and_contours(centers, rot_angles, cmask_filepaths)\n",
    "\n",
    "# find top and bottom most points\n",
    "df_top_bot = pd.DataFrame(find_top_bottom_points_from_contours(rot_contours))\n",
    "# cut_width, cut_height = ()"
   ]
  },
  {
   "cell_type": "markdown",
   "metadata": {},
   "source": [
    "# 3. Show examples"
   ]
  },
  {
   "cell_type": "code",
   "execution_count": 9,
   "metadata": {},
   "outputs": [
    {
     "data": {
      "text/plain": [
       "[<matplotlib.lines.Line2D at 0x1382445b0>]"
      ]
     },
     "execution_count": 9,
     "metadata": {},
     "output_type": "execute_result"
    },
    {
     "data": {
      "image/png": "[encoded data removed]",
      "text/plain": [
       "<Figure size 432x288 with 1 Axes>"
      ]
     },
     "metadata": {
      "needs_background": "light"
     },
     "output_type": "display_data"
    }
   ],
   "source": [
    "idx = 2\n",
    "cmask = cv2.cvtColor(cv2.imread(cmask_filepaths[idx], 1), cv2.COLOR_BGR2GRAY)\n",
    "background = np.zeros_like(cmask)\n",
    "\n",
    "cv2.drawContours(background, [rot_contours[idx]], 0, (255,0,0), thickness=2)\n",
    "plt.imshow(background, cmap=\"gray\")\n",
    "plt.plot(cm_x[idx], cm_y[idx], \"ow\", ms=10)\n",
    "\n",
    "plt.plot(df_top_bot.loc[idx, \"top_x\"], df_top_bot.loc[idx, \"top_y\"], \"xb\", ms=6)\n",
    "plt.plot(df_top_bot.loc[idx, \"bottom_x\"], df_top_bot.loc[idx, \"bottom_y\"], \"xr\", ms=6)"
   ]
  }
 ],
 "metadata": {
  "kernelspec": {
   "display_name": "Python 3",
   "language": "python",
   "name": "python3"
  },
  "language_info": {
   "codemirror_mode": {
    "name": "ipython",
    "version": 3
   },
   "file_extension": ".py",
   "mimetype": "text/x-python",
   "name": "python",
   "nbconvert_exporter": "python",
   "pygments_lexer": "ipython3",
   "version": "3.10.1"
  }
 },
 "nbformat": 4,
 "nbformat_minor": 2
}
