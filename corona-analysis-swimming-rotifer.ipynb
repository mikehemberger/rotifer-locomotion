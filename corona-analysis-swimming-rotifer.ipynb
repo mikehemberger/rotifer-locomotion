{
 "cells": [
  {
   "cell_type": "code",
   "execution_count": 16,
   "metadata": {},
   "outputs": [],
   "source": [
    "import os\n",
    "import pandas as pd\n",
    "import numpy as np\n",
    "import cv2  # conda install -c conda-forge opencv\n",
    "import matplotlib.pyplot as plt\n",
    "\n",
    "\n",
    "plt.rcParams[\"figure.figsize\"] = (10, 6)\n",
    "plt.rcParams['axes.grid'] = False\n",
    "plt.rcParams[\"axes.spines.top\"] = False\n",
    "plt.rcParams[\"axes.spines.right\"] = False\n",
    "plt.rcParams[\"font.size\"] = 15\n",
    "plt.rcParams[\"savefig.bbox\"] = \"tight\"\n",
    "plt.rcParams['figure.facecolor'] = 'white'"
   ]
  },
  {
   "cell_type": "markdown",
   "metadata": {},
   "source": [
    "# Analysis"
   ]
  },
  {
   "cell_type": "code",
   "execution_count": 2,
   "metadata": {},
   "outputs": [
    {
     "name": "stdout",
     "output_type": "stream",
     "text": [
      "60 (1032, 920)\n"
     ]
    }
   ],
   "source": [
    "vid_path = \"./data/videos/individual-rotifer/\"\n",
    "trim_duration = 7\n",
    "vid_filename = f\"2024_0205_101231_022_{trim_duration}sec.mov\"  # d_high\n",
    "vid_extension = vid_filename.split(\"sec\")[-1]\n",
    "vid_filename = vid_filename.split(\".\")[0]\n",
    "\n",
    "vid_filepath = f\"{vid_path}{vid_filename}{vid_extension}\"\n",
    "seg_mask_path = f\"./data/results/{vid_filename}_masks\"  # inching w/o substrate, then sample then take-off, 315 frames\n",
    "\n",
    "video = cv2.VideoCapture(vid_filepath)\n",
    "fps = int(video.get(cv2.CAP_PROP_FPS))\n",
    "width = int(video.get(cv2.CAP_PROP_FRAME_WIDTH))\n",
    "height = int(video.get(cv2.CAP_PROP_FRAME_HEIGHT))\n",
    "resolution = (height,width)#duration = frame_count / fps\n",
    "video.release()\n",
    "print(fps, resolution)"
   ]
  },
  {
   "cell_type": "markdown",
   "metadata": {},
   "source": [
    "# Frame extraction"
   ]
  },
  {
   "cell_type": "code",
   "execution_count": 3,
   "metadata": {},
   "outputs": [],
   "source": [
    "EXTRACT_FRAMES = False\n",
    "frames_filepaths = f\"./data/images/{vid_filename}/\"\n",
    "zfill_ = 5  # correspond to seg-masks\n",
    "\n",
    "if EXTRACT_FRAMES:\n",
    "    os.makedirs(frames_filepaths, exist_ok=True)\n",
    "    video = cv2.VideoCapture(vid_filepath)\n",
    "    frame_counter = 0\n",
    "    while True:\n",
    "        ret, frame = video.read()\n",
    "        if not ret:\n",
    "            break\n",
    "        if frame_counter % 1 == 0:\n",
    "            cv2.imwrite(f\"{frames_filepaths}/frame_{str(frame_counter).zfill(zfill_)}.jpg\", frame)  \n",
    "        frame_counter += 1\n",
    "    video.release()"
   ]
  },
  {
   "cell_type": "code",
   "execution_count": 4,
   "metadata": {},
   "outputs": [],
   "source": [
    "# Construct output figure path\n",
    "save_figure_path = \"_\".join(seg_mask_path.split(\"_\")[:-1])\n",
    "os.makedirs(save_figure_path, exist_ok=True)\n",
    "save_figure_path = os.path.join(save_figure_path, vid_filename)"
   ]
  },
  {
   "cell_type": "markdown",
   "metadata": {},
   "source": [
    "### Get Segmentation Mask and video properties"
   ]
  },
  {
   "cell_type": "code",
   "execution_count": 5,
   "metadata": {},
   "outputs": [
    {
     "name": "stdout",
     "output_type": "stream",
     "text": [
      "num_frames: 410 ; save_figure_path: ./data/results/2024_0205_101231_022_7sec/2024_0205_101231_022_7sec ; fps: 60 ; resolution: (1032, 920)\n",
      "FHD, pixel_per_real_width =  0.61\n"
     ]
    },
    {
     "data": {
      "text/html": [
       "<div>\n",
       "<style scoped>\n",
       "    .dataframe tbody tr th:only-of-type {\n",
       "        vertical-align: middle;\n",
       "    }\n",
       "\n",
       "    .dataframe tbody tr th {\n",
       "        vertical-align: top;\n",
       "    }\n",
       "\n",
       "    .dataframe thead th {\n",
       "        text-align: right;\n",
       "    }\n",
       "</style>\n",
       "<table border=\"1\" class=\"dataframe\">\n",
       "  <thead>\n",
       "    <tr style=\"text-align: right;\">\n",
       "      <th></th>\n",
       "      <th>frame</th>\n",
       "      <th>time</th>\n",
       "      <th>mask_fpath</th>\n",
       "      <th>centroid_x</th>\n",
       "      <th>centroid_y</th>\n",
       "      <th>area</th>\n",
       "      <th>min_area</th>\n",
       "      <th>extent</th>\n",
       "      <th>perimeter</th>\n",
       "      <th>aspect_ratio</th>\n",
       "      <th>orientation</th>\n",
       "      <th>centroid_dist</th>\n",
       "      <th>img_fpath</th>\n",
       "      <th>frame_shown</th>\n",
       "    </tr>\n",
       "  </thead>\n",
       "  <tbody>\n",
       "    <tr>\n",
       "      <th>0</th>\n",
       "      <td>0</td>\n",
       "      <td>0.000000</td>\n",
       "      <td>./data/results/2024_0205_101231_022_7sec_masks...</td>\n",
       "      <td>260</td>\n",
       "      <td>394</td>\n",
       "      <td>21449.0</td>\n",
       "      <td>123543</td>\n",
       "      <td>0.173616</td>\n",
       "      <td>1072.444866</td>\n",
       "      <td>1.114114</td>\n",
       "      <td>131.253479</td>\n",
       "      <td>NaN</td>\n",
       "      <td>./data/images/2024_0205_101231_022_7sec/frame_...</td>\n",
       "      <td>1</td>\n",
       "    </tr>\n",
       "    <tr>\n",
       "      <th>1</th>\n",
       "      <td>1</td>\n",
       "      <td>0.016707</td>\n",
       "      <td>./data/results/2024_0205_101231_022_7sec_masks...</td>\n",
       "      <td>260</td>\n",
       "      <td>395</td>\n",
       "      <td>21521.5</td>\n",
       "      <td>123210</td>\n",
       "      <td>0.174673</td>\n",
       "      <td>1067.515932</td>\n",
       "      <td>1.111111</td>\n",
       "      <td>131.319107</td>\n",
       "      <td>1.0</td>\n",
       "      <td>./data/images/2024_0205_101231_022_7sec/frame_...</td>\n",
       "      <td>0</td>\n",
       "    </tr>\n",
       "    <tr>\n",
       "      <th>2</th>\n",
       "      <td>2</td>\n",
       "      <td>0.033415</td>\n",
       "      <td>./data/results/2024_0205_101231_022_7sec_masks...</td>\n",
       "      <td>259</td>\n",
       "      <td>395</td>\n",
       "      <td>21688.0</td>\n",
       "      <td>123543</td>\n",
       "      <td>0.175550</td>\n",
       "      <td>1066.586997</td>\n",
       "      <td>1.114114</td>\n",
       "      <td>131.321289</td>\n",
       "      <td>1.0</td>\n",
       "      <td>./data/images/2024_0205_101231_022_7sec/frame_...</td>\n",
       "      <td>0</td>\n",
       "    </tr>\n",
       "    <tr>\n",
       "      <th>3</th>\n",
       "      <td>3</td>\n",
       "      <td>0.050122</td>\n",
       "      <td>./data/results/2024_0205_101231_022_7sec_masks...</td>\n",
       "      <td>259</td>\n",
       "      <td>395</td>\n",
       "      <td>21510.5</td>\n",
       "      <td>122840</td>\n",
       "      <td>0.175110</td>\n",
       "      <td>1064.344356</td>\n",
       "      <td>1.114458</td>\n",
       "      <td>131.383575</td>\n",
       "      <td>0.0</td>\n",
       "      <td>./data/images/2024_0205_101231_022_7sec/frame_...</td>\n",
       "      <td>0</td>\n",
       "    </tr>\n",
       "    <tr>\n",
       "      <th>4</th>\n",
       "      <td>4</td>\n",
       "      <td>0.066830</td>\n",
       "      <td>./data/results/2024_0205_101231_022_7sec_masks...</td>\n",
       "      <td>259</td>\n",
       "      <td>395</td>\n",
       "      <td>21477.0</td>\n",
       "      <td>123172</td>\n",
       "      <td>0.174366</td>\n",
       "      <td>1065.758570</td>\n",
       "      <td>1.117470</td>\n",
       "      <td>131.444046</td>\n",
       "      <td>0.0</td>\n",
       "      <td>./data/images/2024_0205_101231_022_7sec/frame_...</td>\n",
       "      <td>0</td>\n",
       "    </tr>\n",
       "  </tbody>\n",
       "</table>\n",
       "</div>"
      ],
      "text/plain": [
       "   frame      time                                         mask_fpath  \\\n",
       "0      0  0.000000  ./data/results/2024_0205_101231_022_7sec_masks...   \n",
       "1      1  0.016707  ./data/results/2024_0205_101231_022_7sec_masks...   \n",
       "2      2  0.033415  ./data/results/2024_0205_101231_022_7sec_masks...   \n",
       "3      3  0.050122  ./data/results/2024_0205_101231_022_7sec_masks...   \n",
       "4      4  0.066830  ./data/results/2024_0205_101231_022_7sec_masks...   \n",
       "\n",
       "   centroid_x  centroid_y     area  min_area    extent    perimeter  \\\n",
       "0         260         394  21449.0    123543  0.173616  1072.444866   \n",
       "1         260         395  21521.5    123210  0.174673  1067.515932   \n",
       "2         259         395  21688.0    123543  0.175550  1066.586997   \n",
       "3         259         395  21510.5    122840  0.175110  1064.344356   \n",
       "4         259         395  21477.0    123172  0.174366  1065.758570   \n",
       "\n",
       "   aspect_ratio  orientation  centroid_dist  \\\n",
       "0      1.114114   131.253479            NaN   \n",
       "1      1.111111   131.319107            1.0   \n",
       "2      1.114114   131.321289            1.0   \n",
       "3      1.114458   131.383575            0.0   \n",
       "4      1.117470   131.444046            0.0   \n",
       "\n",
       "                                           img_fpath  frame_shown  \n",
       "0  ./data/images/2024_0205_101231_022_7sec/frame_...            1  \n",
       "1  ./data/images/2024_0205_101231_022_7sec/frame_...            0  \n",
       "2  ./data/images/2024_0205_101231_022_7sec/frame_...            0  \n",
       "3  ./data/images/2024_0205_101231_022_7sec/frame_...            0  \n",
       "4  ./data/images/2024_0205_101231_022_7sec/frame_...            0  "
      ]
     },
     "execution_count": 5,
     "metadata": {},
     "output_type": "execute_result"
    }
   ],
   "source": [
    "# Get Segmentation masks > results of tracking \n",
    "mask_filenames = sorted([f for f in os.listdir(seg_mask_path) if f.endswith(\"png\")])\n",
    "mask_filepaths = [os.path.join(seg_mask_path, fn) for fn in mask_filenames]\n",
    "\n",
    "# Construct the dataframe\n",
    "frames = np.linspace(0, len(mask_filepaths), len(mask_filepaths)).astype(\"int\")\n",
    "df = pd.DataFrame(frames, columns=[\"frame\"])\n",
    "df[\"time\"] = np.linspace(0, len(df) / fps, len(df))\n",
    "df[\"mask_fpath\"] = mask_filepaths\n",
    "\n",
    "num_frames = len(df)\n",
    "print(\"num_frames:\", num_frames, \"; save_figure_path:\", save_figure_path, \"; fps:\", fps, \"; resolution:\", resolution)\n",
    "\n",
    "# Adjust resolution depending on frame rate\n",
    "if fps == 24:\n",
    "    pixel_per_real_width = .4 # 2.5\n",
    "    print(\"UHD, pixel_per_real_width = \", pixel_per_real_width)\n",
    "elif fps == 60 or fps == 30:\n",
    "    pixel_per_real_width = .61 # 1.65\n",
    "    print(\"FHD, pixel_per_real_width = \", pixel_per_real_width)\n",
    "\n",
    "# Load in the segmentation masks and find contrours\n",
    "from utils import get_contours_from_segmasks, get_contour_stats\n",
    "segmentation_mask_filepaths = df[\"mask_fpath\"].tolist()\n",
    "contour_list = get_contours_from_segmasks(segmentation_mask_filepaths)\n",
    "\n",
    "# Get contour stats\n",
    "df_ = get_contour_stats(contour_list) # add xtime but beware of NaN???!!! if area <5\n",
    "\n",
    "# Concat dfs\n",
    "df = pd.concat([df, df_], axis=1)\n",
    "df[\"img_fpath\"] = [f\"{frames_filepaths}frame_{str(nth).zfill(zfill_)}.jpg\" for nth in range(len(df))]\n",
    "\n",
    "# Mark frames for subsampling\n",
    "every_nth_frame = int(fps/2) # subsampling of frames to illustrate\n",
    "frame_subsample = np.arange(0, num_frames, every_nth_frame)\n",
    "df[\"frame_shown\"] = 0\n",
    "df.loc[frame_subsample, \"frame_shown\"] = 1\n",
    "\n",
    "# For Visualization of all and subsample\n",
    "desired_cmap = \"brg\"\n",
    "cmap = plt.get_cmap(desired_cmap)\n",
    "colors = [cmap(i)[:3] for i in np.linspace(0, 1, len(df))]\n",
    "sub_colors = [cmap(i)[:3] for i in np.linspace(0, 1, len(frame_subsample))]\n",
    "sub_index = np.arange(0, len(frame_subsample), 1)\n",
    "\n",
    "# Check df\n",
    "df.head(5)"
   ]
  },
  {
   "cell_type": "markdown",
   "metadata": {},
   "source": [
    "## Rotate images and masks according to mask"
   ]
  },
  {
   "cell_type": "code",
   "execution_count": 6,
   "metadata": {},
   "outputs": [],
   "source": [
    "rot_imgs = []\n",
    "rot_masks = []\n",
    "rot_contours = []\n",
    "\n",
    "for nth, row in df.iterrows():\n",
    "    # Img\n",
    "    cimg = cv2.cvtColor(cv2.imread(row[\"img_fpath\"], 1), cv2.COLOR_BGR2RGB)\n",
    "    # Mask\n",
    "    cmask = cv2.cvtColor(cv2.imread(row[\"mask_fpath\"], 1), cv2.COLOR_BGR2GRAY)\n",
    "    \n",
    "    # Rotatation parameters\n",
    "    h, w = cimg.shape[:2]\n",
    "    center = (w/2, h/2)\n",
    "    angle = row[\"orientation\"]  # fitted ellipse angle\n",
    "    rotate_matrix = cv2.getRotationMatrix2D(center=center, angle=angle, scale=1)\n",
    "\n",
    "    # Rotate img, mask, and get contour\n",
    "    rot_imgs.append(cv2.warpAffine(src=cimg, M=rotate_matrix, dsize=(w, h)))\n",
    "    rot_masks.append(cv2.warpAffine(src=cmask, M=rotate_matrix, dsize=(w, h)))\n",
    "    _, thresh = cv2.threshold(rot_masks[-1], 127, 255, cv2.THRESH_BINARY)\n",
    "    contours, _ = cv2.findContours(thresh, cv2.RETR_TREE, cv2.CHAIN_APPROX_SIMPLE)\n",
    "    rot_contours.append(contours[-1])"
   ]
  },
  {
   "cell_type": "markdown",
   "metadata": {},
   "source": [
    "# Corona Extension Process (March)\n",
    "- this looks good actually, rüssel is frontal and elongated, lines do not bear the frontal triangle of corona\n",
    "- corona transforms the lines that can be used to get the frontal width"
   ]
  },
  {
   "cell_type": "code",
   "execution_count": 7,
   "metadata": {},
   "outputs": [],
   "source": [
    "SAVE_SKELETON = False\n",
    "if SAVE_SKELETON:\n",
    "    np.save(f\"skeletonized{vid_filename}\", rot_thin)\n",
    "else:\n",
    "    rot_thin = np.load(f\"skeletonized{vid_filename}.npy\")"
   ]
  },
  {
   "cell_type": "code",
   "execution_count": 8,
   "metadata": {},
   "outputs": [
    {
     "data": {
      "text/plain": [
       "250.00000000000003"
      ]
     },
     "execution_count": 8,
     "metadata": {},
     "output_type": "execute_result"
    }
   ],
   "source": [
    "(1000/60)*15"
   ]
  },
  {
   "cell_type": "code",
   "execution_count": 12,
   "metadata": {},
   "outputs": [],
   "source": [
    "# Frame selection for OVERLAY\n",
    "plt.rcParams['figure.facecolor'] = 'white'\n",
    "interval = 3 # 3 frames = 50ms! at 60fps\n",
    "selected_frames = np.arange(0, 60, interval) # 0:30 transformation\n",
    "colors_overlay = [cmap(i)[:3] for i in np.linspace(0, 1, len(selected_frames))]\n",
    "background_overlay = np.ones_like(cv2.imread(df.loc[0, \"mask_fpath\"])) * 255\n",
    "\n",
    "# Draw selected contours\n",
    "for nth, sframe in enumerate(selected_frames):\n",
    "    ccolors = colors_overlay[nth]\n",
    "    cv2.drawContours(background_overlay, [rot_contours[sframe]], 0, (ccolors[0] * 255, ccolors[1] * 255, ccolors[2] * 255), 2)"
   ]
  },
  {
   "cell_type": "markdown",
   "metadata": {},
   "source": [
    "## Select frames around corona transformation"
   ]
  },
  {
   "cell_type": "code",
   "execution_count": 52,
   "metadata": {},
   "outputs": [
    {
     "data": {
      "image/png": "[encoded data removed]",
      "text/plain": [
       "<Figure size 648x360 with 6 Axes>"
      ]
     },
     "metadata": {},
     "output_type": "display_data"
    }
   ],
   "source": [
    "desired_scale_width = 10  # in mu\n",
    "scaled_width = desired_scale_width / (pixel_per_real_width)\n",
    "\n",
    "idx = [0, 15, 30, 45, 60]  # 15 frames = 250ms \n",
    "#mastaxy = [635, 630, 625]; frontal_y = [560, 560, 560] # [555, 570, 585]\n",
    "colors = [cmap(i)[:3] for i in np.linspace(0, 1, idx[-1]+1)]\n",
    "zxlim = [440, 545]; zylim = [525, 630]\n",
    "\n",
    "fig, ax = plt.subplots(nrows=1, ncols=len(idx) + 1, figsize=(9,5), layout=\"tight\", squeeze=True)\n",
    "\n",
    "for nth, i in enumerate(idx):\n",
    "    # Rotated things\n",
    "    nth = nth + 1\n",
    "    cimg = rot_imgs[i]\n",
    "    cmask = rot_masks[i]\n",
    "    ccnt = rot_contours[i]\n",
    "    \n",
    "    # Bg and masking\n",
    "    background = np.ones_like(cimg) * 255\n",
    "    masked_image = cv2.bitwise_and(cimg, cimg, mask=cmask)\n",
    "    masked_image = np.where(masked_image != 0, masked_image, background)\n",
    "    ccolors = tuple([c * 255 for c in colors[i]])\n",
    "    img = cv2.drawContours(masked_image, [ccnt], 0, ccolors, 2)\n",
    "\n",
    "    # Plotting\n",
    "    ax[nth].imshow(img)\n",
    "    ax[nth].set_xlim(zxlim); ax[nth].set_ylim(zylim);\n",
    "    ax[nth].invert_yaxis(); ax[nth].axis(\"off\")\n",
    "\n",
    "# Plot overlay\n",
    "ax[0].imshow(background_overlay)\n",
    "ax[0].set_xlim(zxlim); ax[0].set_ylim(zylim);\n",
    "ax[0].invert_yaxis(); ax[0].axis(\"off\")\n",
    "\n",
    "# Scalebar\n",
    "scalebar_posxy = [475, 625]\n",
    "ax[0].plot([scalebar_posxy[0], scalebar_posxy[0] + scaled_width], [scalebar_posxy[-1], scalebar_posxy[-1]], \"-k\", lw=3)\n",
    "ax[0].text(scalebar_posxy[0] + (scaled_width/20), scalebar_posxy[-1] - 5, f\"{desired_scale_width}µm\", size=\"small\");\n",
    "\n",
    "# 560 is where corona is plane\n",
    "# 630, just at anterior end of mastax\n",
    "SAVE_FIGURES = True\n",
    "if SAVE_FIGURES: plt.savefig(f\"{save_figure_path}-fps_{fps}-corona-subsample.jpg\", dpi=600)"
   ]
  },
  {
   "cell_type": "markdown",
   "metadata": {},
   "source": [
    "### Quantify then plot\n",
    "- decided for in refernce to corona plane as y=0, mastax is also possible but simplay uses up more space to illustarte"
   ]
  },
  {
   "cell_type": "code",
   "execution_count": 47,
   "metadata": {},
   "outputs": [
    {
     "data": {
      "image/png": "[encoded data removed]",
      "text/plain": [
       "<Figure size 504x360 with 1 Axes>"
      ]
     },
     "metadata": {},
     "output_type": "display_data"
    }
   ],
   "source": [
    "\n",
    "mastax_xy = [500, 630]\n",
    "corona_y = [560]\n",
    "L = [] # length > proboscis length to corona plane\n",
    "fw = [] # frotnal width\n",
    "frame_idx = 60\n",
    "time = df.loc[:frame_idx, \"time\"]\n",
    "\n",
    "# Get measures\n",
    "for cmask in rot_masks[:frame_idx+1]:\n",
    "    y, x = np.where(cmask)\n",
    "    L.append(corona_y - np.min(y))\n",
    "    \n",
    "    yfront = np.where(y <= corona_y)\n",
    "    fw.append(np.max(x[yfront]) - np.min(x[yfront]))\n",
    "\n",
    "# Normalize\n",
    "L = np.array(L) / np.max(L)\n",
    "fw = np.array(fw) / np.max(fw)\n",
    "\n",
    "# Line plot\n",
    "# plot colored arrows at sampled time points\n",
    "plt.figure(figsize=(7,5))\n",
    "plt.plot(time, L, \"-\", color=\"k\", label=\"dist$_L$\", lw=2)\n",
    "plt.plot(time, fw, \"-\", color=\"gray\", label=\"dist$_W$\", lw=2)\n",
    "for nth, i in enumerate(idx):\n",
    "    plt.arrow(i/fps,1.1,0,-.05, width=.005,color=colors[i])\n",
    "\n",
    "plt.xlabel(\"Time (sec)\"); plt.ylabel(\"Normalized distance\")\n",
    "plt.legend()\n",
    "plt.tight_layout()\n",
    "\n",
    "SAVE_FIGURES = True\n",
    "if SAVE_FIGURES: plt.savefig(f\"{save_figure_path}-fps_{fps}-corona-length-width.jpg\", dpi=600)"
   ]
  },
  {
   "cell_type": "markdown",
   "metadata": {},
   "source": [
    "## Video zoomed in on corona"
   ]
  },
  {
   "cell_type": "code",
   "execution_count": null,
   "metadata": {},
   "outputs": [],
   "source": [
    "SAVE_VIDEO = False\n",
    "\n",
    "# if SAVE_VIDEO:\n",
    "#     video = cv2.VideoWriter(f\"{vid_filename}_rotate_test_video_center_color_slowmo.mp4\", fourcc=cv2.VideoWriter_fourcc(*\"mp4v\"), fps=fps, frameSize=(w, h), isColor=True)\n",
    "#     counter = 0\n",
    "\n",
    "#     for frame in rot_imgs:\n",
    "#         frame = cv2.cvtColor(frame, cv2.COLOR_RGB2BGR)\n",
    "#         cv2.putText(frame, f\"frame{str(counter).zfill(zfill_)}\", (500,500), cv2.FONT_HERSHEY_SIMPLEX, 1, (255,255,255), 2)\n",
    "#         video.write(frame)\n",
    "#         counter += 1\n",
    "\n",
    "#     cv2.destroyAllWindows()\n",
    "#     video.release()"
   ]
  },
  {
   "cell_type": "code",
   "execution_count": null,
   "metadata": {},
   "outputs": [],
   "source": [
    "# import matplotlib as mpl\n",
    "# fig = plt.figure(figsize=(1.2, .8), layout='constrained')\n",
    "# fig.colorbar(mpl.cm.ScalarMappable(norm=mpl.colors.Normalize(vmin=0, vmax=int(df[\"time\"].max())), cmap=mpl.cm.brg),\n",
    "#              cax=fig.gca(), orientation='horizontal', label='Time (sec)')\n",
    "# if SAVE_FIGURES: fig.savefig(f\"{save_figure_path}-colorbar.jpg\", dpi=300)"
   ]
  },
  {
   "cell_type": "markdown",
   "metadata": {},
   "source": [
    "# OLD CODE"
   ]
  },
  {
   "cell_type": "markdown",
   "metadata": {},
   "source": [
    "# mask an image"
   ]
  },
  {
   "cell_type": "code",
   "execution_count": null,
   "metadata": {},
   "outputs": [],
   "source": [
    "# SAVE_FIGURES = False\n",
    "# highlight_frames = [8, 263, 338]  # 51, \n",
    "\n",
    "# desired_scale_width = 50  # in mu\n",
    "# scaled_width = desired_scale_width / (pixel_per_real_width)\n",
    "# contour_lw = 2  # contor line width\n",
    "\n",
    "# fig, ax = plt.subplots(figsize=(5,8), nrows=1, ncols=len(highlight_frames), layout=\"constrained\")\n",
    "\n",
    "# scalebar_posxy = [550, 1000]\n",
    "# ylow, yhigh = 400, 1030\n",
    "# xlow, xhigh = 350, 650\n",
    "# for nth, cframe in enumerate(highlight_frames):\n",
    "    \n",
    "#     # ROTATED Masking the Image and contour\n",
    "#     cimg = rot_imgs[cframe]\n",
    "#     cmask = rot_masks[cframe]\n",
    "#     cnt = rot_contours[cframe]\n",
    "#     background = np.ones_like(cimg) * 255\n",
    "    \n",
    "#     ccolors = tuple([c * 255 for c in colors[cframe]])\n",
    "#     masked_image = cv2.bitwise_and(cimg, cimg, mask=cmask)\n",
    "#     masked_image = np.where(masked_image != 0, masked_image, background)\n",
    "    \n",
    "#     # Draw contour on image\n",
    "#     cv2.drawContours(masked_image, [cnt], 0, ccolors, contour_lw)\n",
    "#     ax[nth].imshow(masked_image)\n",
    "\n",
    "#     # Axis\n",
    "#     ax[nth].set_ylim([ylow, yhigh]); ax[nth].set_xlim([xlow, xhigh])\n",
    "#     ax[nth].invert_yaxis()\n",
    "#     ax[nth].set_axis_off()\n",
    "\n",
    "# # Scalebar\n",
    "# ax[0].plot([scalebar_posxy[0], scalebar_posxy[0] + scaled_width], [scalebar_posxy[-1], scalebar_posxy[-1]], \"-k\", lw=3)\n",
    "# ax[0].text(scalebar_posxy[0] + (scaled_width/20), scalebar_posxy[-1] - 15, f\"{desired_scale_width}µm\", size=\"large\")\n",
    "\n",
    "# if SAVE_FIGURES: plt.savefig(f\"{save_figure_path}-Individual-frames-highlighted_{highlight_frames}.jpg\", dpi=300)"
   ]
  },
  {
   "cell_type": "markdown",
   "metadata": {},
   "source": [
    "## Plot raw images and overlay mask contour"
   ]
  },
  {
   "cell_type": "code",
   "execution_count": null,
   "metadata": {},
   "outputs": [],
   "source": [
    "# SAVE_FIGURES = False # Scale bar > can be moved somewhere else or config for defaults\n",
    "\n",
    "# # Frame selection\n",
    "# selected_frames1 = np.arange(50, 57, 1)\n",
    "# selected_frames2 = np.arange(260, 265+2, 1)\n",
    "# selected_frames3 = np.arange(335, 340+2, 1)\n",
    "# selected_frames = np.concatenate((selected_frames1, selected_frames2, selected_frames3))\n",
    "# #print(df.loc[selected_frames, \"time\"])\n",
    "# scalebar_posxy = [550, 1000]\n",
    "# cxlim = [350, 650]\n",
    "# cylim = [350, 1040]\n",
    "\n",
    "# desired_scale_width = 50  # in mu\n",
    "# scaled_width = desired_scale_width / (pixel_per_real_width)\n",
    "\n",
    "# # Prep subsampled data\n",
    "# sub_maskpaths = df[\"mask_fpath\"].tolist()[::every_nth_frame]\n",
    "# first_frame = cv2.imread(sub_maskpaths[0])\n",
    "# background = np.ones_like(first_frame) * 255\n",
    "\n",
    "# # Draw selected contours\n",
    "# for sframe in selected_frames:\n",
    "#     ccolors = colors[sframe]\n",
    "#     ccolors = [ccolors[0] * 255, ccolors[1] * 255, ccolors[2] * 255]\n",
    "#     cv2.drawContours(background, [rot_contours[sframe]], 0, (ccolors[0], ccolors[1], ccolors[2]), 2)\n",
    "\n",
    "# # Figure\n",
    "# plt.figure(figsize=(5,6), layout=\"constrained\")\n",
    "# plt.imshow(background)\n",
    "# plt.ylim([ylow, yhigh]); plt.xlim([xlow, xhigh])\n",
    "# plt.xlim(cxlim); plt.ylim(cylim);\n",
    "# plt.gca().invert_yaxis()\n",
    "# plt.axis(\"off\")\n",
    "\n",
    "# # Scalebar\n",
    "# plt.plot([scalebar_posxy[0], scalebar_posxy[0] + scaled_width], [scalebar_posxy[-1], scalebar_posxy[-1]], \"-k\", lw=3)\n",
    "# #plt.text(scalebar_posxy[0] + (scaled_width/10), scalebar_posxy[-1] - 15, f\"{desired_scale_width} µm\", size=\"x-large\")\n",
    "# plt.tight_layout() # can also set limits in next cell or give back the ax handle?!\n",
    "\n",
    "# if SAVE_FIGURES: plt.savefig(f\"{save_figure_path}-fps_{fps}-subsampled_selected-frames.jpg\", dpi=300)"
   ]
  },
  {
   "cell_type": "markdown",
   "metadata": {},
   "source": [
    "## Skeletonize"
   ]
  },
  {
   "cell_type": "code",
   "execution_count": null,
   "metadata": {},
   "outputs": [],
   "source": [
    "# import skimage.morphology as morph\n",
    "\n",
    "# rot_imgs = []\n",
    "# rot_masks = []\n",
    "# rot_thin = []\n",
    "\n",
    "# for nth, row in df.iterrows():\n",
    "#     # Img\n",
    "#     cimg = cv2.cvtColor(cv2.imread(row[\"img_fpath\"], 1), cv2.COLOR_BGR2RGB)\n",
    "#     # Mask\n",
    "#     cmask = cv2.cvtColor(cv2.imread(row[\"mask_fpath\"], 1), cv2.COLOR_BGR2GRAY)\n",
    "    \n",
    "#     # Rotate\n",
    "#     h, w = cimg.shape[:2]\n",
    "#     center = (w/2, h/2)\n",
    "#     #center = (row[\"centroid_x\"], row[\"centroid_y\"])\n",
    "#     angle = row[\"orientation\"]  # fitted ellipse angle\n",
    "#     rotate_matrix = cv2.getRotationMatrix2D(center=center, angle=angle, scale=1)\n",
    "\n",
    "#     # Rotate img, mask, thin\n",
    "#     rot_imgs.append(cv2.warpAffine(src=cimg, M=rotate_matrix, dsize=(w, h)))\n",
    "#     rot_masks.append(cv2.warpAffine(src=cmask, M=rotate_matrix, dsize=(w, h)))\n",
    "    \n",
    "#     #if  nth % every_nth_frame == 0:\n",
    "#         # Thinning / skeletonize\n",
    "#     # ALREADY THINNED > TAKE CARE OF THIS!!!\n",
    "#     #cthin = morph.thin(cmask).astype(\"uint8\")\n",
    "#         #print(nth, cimg.dtype, cmask.dtype, cthin.dtype)\n",
    "#     #rot_thin.append(cv2.warpAffine(src=cthin, M=rotate_matrix, dsize=(w, h)))\n"
   ]
  }
 ],
 "metadata": {
  "kernelspec": {
   "display_name": "base",
   "language": "python",
   "name": "python3"
  },
  "language_info": {
   "codemirror_mode": {
    "name": "ipython",
    "version": 3
   },
   "file_extension": ".py",
   "mimetype": "text/x-python",
   "name": "python",
   "nbconvert_exporter": "python",
   "pygments_lexer": "ipython3",
   "version": "3.10.1"
  }
 },
 "nbformat": 4,
 "nbformat_minor": 2
}
